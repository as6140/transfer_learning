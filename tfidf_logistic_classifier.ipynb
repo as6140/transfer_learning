{
 "cells": [
  {
   "cell_type": "code",
   "execution_count": 128,
   "metadata": {},
   "outputs": [],
   "source": [
    "import pandas as pd\n",
    "import numpy as np\n",
    "from sklearn.pipeline import Pipeline\n",
    "from sklearn.preprocessing import StandardScaler, OneHotEncoder\n",
    "from sklearn.compose import ColumnTransformer\n",
    "from sklearn.model_selection import train_test_split\n",
    "from sklearn.feature_extraction.text import TfidfVectorizer\n",
    "# from sklearn.linear_model import LinearRegression\n",
    "from sklearn_pandas import DataFrameMapper, cross_val_score\n",
    "from sklearn_pandas.pipeline import Pipeline\n",
    "# from sklearn.ensemble import GradientBoostingRegressor, RandomForestRegressor\n",
    "# from sklearn.neighbors import KNeighborsRegressor\n",
    "from sklearn.linear_model import LogisticRegression\n",
    "from sklearn.preprocessing import FunctionTransformer, LabelEncoder, label_binarize, LabelBinarizer\n",
    "from sklearn.metrics import roc_auc_score, roc_curve, accuracy_score, auc, precision_score,f1_score,recall_score\n",
    "import string\n",
    "import re\n",
    "import matplotlib.pyplot as plt"
   ]
  },
  {
   "cell_type": "code",
   "execution_count": 95,
   "metadata": {},
   "outputs": [
    {
     "data": {
      "text/html": [
       "<div>\n",
       "<style scoped>\n",
       "    .dataframe tbody tr th:only-of-type {\n",
       "        vertical-align: middle;\n",
       "    }\n",
       "\n",
       "    .dataframe tbody tr th {\n",
       "        vertical-align: top;\n",
       "    }\n",
       "\n",
       "    .dataframe thead th {\n",
       "        text-align: right;\n",
       "    }\n",
       "</style>\n",
       "<table border=\"1\" class=\"dataframe\">\n",
       "  <thead>\n",
       "    <tr style=\"text-align: right;\">\n",
       "      <th></th>\n",
       "      <th>0</th>\n",
       "      <th>1</th>\n",
       "      <th>2</th>\n",
       "      <th>3</th>\n",
       "      <th>4</th>\n",
       "    </tr>\n",
       "  </thead>\n",
       "  <tbody>\n",
       "    <tr>\n",
       "      <th>_unit_id</th>\n",
       "      <td>766192484</td>\n",
       "      <td>766192485</td>\n",
       "      <td>766192486</td>\n",
       "      <td>766192487</td>\n",
       "      <td>766192488</td>\n",
       "    </tr>\n",
       "    <tr>\n",
       "      <th>_golden</th>\n",
       "      <td>False</td>\n",
       "      <td>False</td>\n",
       "      <td>False</td>\n",
       "      <td>False</td>\n",
       "      <td>False</td>\n",
       "    </tr>\n",
       "    <tr>\n",
       "      <th>_unit_state</th>\n",
       "      <td>finalized</td>\n",
       "      <td>finalized</td>\n",
       "      <td>finalized</td>\n",
       "      <td>finalized</td>\n",
       "      <td>finalized</td>\n",
       "    </tr>\n",
       "    <tr>\n",
       "      <th>_trusted_judgments</th>\n",
       "      <td>1</td>\n",
       "      <td>1</td>\n",
       "      <td>1</td>\n",
       "      <td>1</td>\n",
       "      <td>1</td>\n",
       "    </tr>\n",
       "    <tr>\n",
       "      <th>_last_judgment_at</th>\n",
       "      <td>8/4/15 21:17</td>\n",
       "      <td>8/4/15 21:20</td>\n",
       "      <td>8/4/15 21:14</td>\n",
       "      <td>8/4/15 21:08</td>\n",
       "      <td>8/4/15 21:26</td>\n",
       "    </tr>\n",
       "    <tr>\n",
       "      <th>audience</th>\n",
       "      <td>national</td>\n",
       "      <td>national</td>\n",
       "      <td>national</td>\n",
       "      <td>national</td>\n",
       "      <td>national</td>\n",
       "    </tr>\n",
       "    <tr>\n",
       "      <th>audience:confidence</th>\n",
       "      <td>1</td>\n",
       "      <td>1</td>\n",
       "      <td>1</td>\n",
       "      <td>1</td>\n",
       "      <td>1</td>\n",
       "    </tr>\n",
       "    <tr>\n",
       "      <th>bias</th>\n",
       "      <td>partisan</td>\n",
       "      <td>partisan</td>\n",
       "      <td>neutral</td>\n",
       "      <td>neutral</td>\n",
       "      <td>partisan</td>\n",
       "    </tr>\n",
       "    <tr>\n",
       "      <th>bias:confidence</th>\n",
       "      <td>1</td>\n",
       "      <td>1</td>\n",
       "      <td>1</td>\n",
       "      <td>1</td>\n",
       "      <td>1</td>\n",
       "    </tr>\n",
       "    <tr>\n",
       "      <th>message</th>\n",
       "      <td>policy</td>\n",
       "      <td>attack</td>\n",
       "      <td>support</td>\n",
       "      <td>policy</td>\n",
       "      <td>policy</td>\n",
       "    </tr>\n",
       "    <tr>\n",
       "      <th>message:confidence</th>\n",
       "      <td>1</td>\n",
       "      <td>1</td>\n",
       "      <td>1</td>\n",
       "      <td>1</td>\n",
       "      <td>1</td>\n",
       "    </tr>\n",
       "    <tr>\n",
       "      <th>orig__golden</th>\n",
       "      <td>NaN</td>\n",
       "      <td>NaN</td>\n",
       "      <td>NaN</td>\n",
       "      <td>NaN</td>\n",
       "      <td>NaN</td>\n",
       "    </tr>\n",
       "    <tr>\n",
       "      <th>audience_gold</th>\n",
       "      <td>NaN</td>\n",
       "      <td>NaN</td>\n",
       "      <td>NaN</td>\n",
       "      <td>NaN</td>\n",
       "      <td>NaN</td>\n",
       "    </tr>\n",
       "    <tr>\n",
       "      <th>bias_gold</th>\n",
       "      <td>NaN</td>\n",
       "      <td>NaN</td>\n",
       "      <td>NaN</td>\n",
       "      <td>NaN</td>\n",
       "      <td>NaN</td>\n",
       "    </tr>\n",
       "    <tr>\n",
       "      <th>bioid</th>\n",
       "      <td>R000596</td>\n",
       "      <td>M000355</td>\n",
       "      <td>S001180</td>\n",
       "      <td>C000880</td>\n",
       "      <td>U000038</td>\n",
       "    </tr>\n",
       "    <tr>\n",
       "      <th>embed</th>\n",
       "      <td>&lt;blockquote class=\"twitter-tweet\" width=\"450\"&gt;...</td>\n",
       "      <td>&lt;blockquote class=\"twitter-tweet\" width=\"450\"&gt;...</td>\n",
       "      <td>&lt;blockquote class=\"twitter-tweet\" width=\"450\"&gt;...</td>\n",
       "      <td>&lt;blockquote class=\"twitter-tweet\" width=\"450\"&gt;...</td>\n",
       "      <td>&lt;blockquote class=\"twitter-tweet\" width=\"450\"&gt;...</td>\n",
       "    </tr>\n",
       "    <tr>\n",
       "      <th>id</th>\n",
       "      <td>3.83249E+17</td>\n",
       "      <td>3.11208E+17</td>\n",
       "      <td>3.39069E+17</td>\n",
       "      <td>2.98528E+17</td>\n",
       "      <td>4.07643E+17</td>\n",
       "    </tr>\n",
       "    <tr>\n",
       "      <th>label</th>\n",
       "      <td>From: Trey Radel (Representative from Florida)</td>\n",
       "      <td>From: Mitch McConnell (Senator from Kentucky)</td>\n",
       "      <td>From: Kurt Schrader (Representative from Oregon)</td>\n",
       "      <td>From: Michael Crapo (Senator from Idaho)</td>\n",
       "      <td>From: Mark Udall (Senator from Colorado)</td>\n",
       "    </tr>\n",
       "    <tr>\n",
       "      <th>message_gold</th>\n",
       "      <td>NaN</td>\n",
       "      <td>NaN</td>\n",
       "      <td>NaN</td>\n",
       "      <td>NaN</td>\n",
       "      <td>NaN</td>\n",
       "    </tr>\n",
       "    <tr>\n",
       "      <th>source</th>\n",
       "      <td>twitter</td>\n",
       "      <td>twitter</td>\n",
       "      <td>twitter</td>\n",
       "      <td>twitter</td>\n",
       "      <td>twitter</td>\n",
       "    </tr>\n",
       "    <tr>\n",
       "      <th>text</th>\n",
       "      <td>RT @nowthisnews: Rep. Trey Radel (R- #FL) slam...</td>\n",
       "      <td>VIDEO - #Obamacare:  Full of Higher Costs and ...</td>\n",
       "      <td>Please join me today in remembering our fallen...</td>\n",
       "      <td>RT @SenatorLeahy: 1st step toward Senate debat...</td>\n",
       "      <td>.@amazon delivery #drones show need to update ...</td>\n",
       "    </tr>\n",
       "  </tbody>\n",
       "</table>\n",
       "</div>"
      ],
      "text/plain": [
       "                                                                     0  \\\n",
       "_unit_id                                                     766192484   \n",
       "_golden                                                          False   \n",
       "_unit_state                                                  finalized   \n",
       "_trusted_judgments                                                   1   \n",
       "_last_judgment_at                                         8/4/15 21:17   \n",
       "audience                                                      national   \n",
       "audience:confidence                                                  1   \n",
       "bias                                                          partisan   \n",
       "bias:confidence                                                      1   \n",
       "message                                                         policy   \n",
       "message:confidence                                                   1   \n",
       "orig__golden                                                       NaN   \n",
       "audience_gold                                                      NaN   \n",
       "bias_gold                                                          NaN   \n",
       "bioid                                                          R000596   \n",
       "embed                <blockquote class=\"twitter-tweet\" width=\"450\">...   \n",
       "id                                                         3.83249E+17   \n",
       "label                   From: Trey Radel (Representative from Florida)   \n",
       "message_gold                                                       NaN   \n",
       "source                                                         twitter   \n",
       "text                 RT @nowthisnews: Rep. Trey Radel (R- #FL) slam...   \n",
       "\n",
       "                                                                     1  \\\n",
       "_unit_id                                                     766192485   \n",
       "_golden                                                          False   \n",
       "_unit_state                                                  finalized   \n",
       "_trusted_judgments                                                   1   \n",
       "_last_judgment_at                                         8/4/15 21:20   \n",
       "audience                                                      national   \n",
       "audience:confidence                                                  1   \n",
       "bias                                                          partisan   \n",
       "bias:confidence                                                      1   \n",
       "message                                                         attack   \n",
       "message:confidence                                                   1   \n",
       "orig__golden                                                       NaN   \n",
       "audience_gold                                                      NaN   \n",
       "bias_gold                                                          NaN   \n",
       "bioid                                                          M000355   \n",
       "embed                <blockquote class=\"twitter-tweet\" width=\"450\">...   \n",
       "id                                                         3.11208E+17   \n",
       "label                    From: Mitch McConnell (Senator from Kentucky)   \n",
       "message_gold                                                       NaN   \n",
       "source                                                         twitter   \n",
       "text                 VIDEO - #Obamacare:  Full of Higher Costs and ...   \n",
       "\n",
       "                                                                     2  \\\n",
       "_unit_id                                                     766192486   \n",
       "_golden                                                          False   \n",
       "_unit_state                                                  finalized   \n",
       "_trusted_judgments                                                   1   \n",
       "_last_judgment_at                                         8/4/15 21:14   \n",
       "audience                                                      national   \n",
       "audience:confidence                                                  1   \n",
       "bias                                                           neutral   \n",
       "bias:confidence                                                      1   \n",
       "message                                                        support   \n",
       "message:confidence                                                   1   \n",
       "orig__golden                                                       NaN   \n",
       "audience_gold                                                      NaN   \n",
       "bias_gold                                                          NaN   \n",
       "bioid                                                          S001180   \n",
       "embed                <blockquote class=\"twitter-tweet\" width=\"450\">...   \n",
       "id                                                         3.39069E+17   \n",
       "label                 From: Kurt Schrader (Representative from Oregon)   \n",
       "message_gold                                                       NaN   \n",
       "source                                                         twitter   \n",
       "text                 Please join me today in remembering our fallen...   \n",
       "\n",
       "                                                                     3  \\\n",
       "_unit_id                                                     766192487   \n",
       "_golden                                                          False   \n",
       "_unit_state                                                  finalized   \n",
       "_trusted_judgments                                                   1   \n",
       "_last_judgment_at                                         8/4/15 21:08   \n",
       "audience                                                      national   \n",
       "audience:confidence                                                  1   \n",
       "bias                                                           neutral   \n",
       "bias:confidence                                                      1   \n",
       "message                                                         policy   \n",
       "message:confidence                                                   1   \n",
       "orig__golden                                                       NaN   \n",
       "audience_gold                                                      NaN   \n",
       "bias_gold                                                          NaN   \n",
       "bioid                                                          C000880   \n",
       "embed                <blockquote class=\"twitter-tweet\" width=\"450\">...   \n",
       "id                                                         2.98528E+17   \n",
       "label                         From: Michael Crapo (Senator from Idaho)   \n",
       "message_gold                                                       NaN   \n",
       "source                                                         twitter   \n",
       "text                 RT @SenatorLeahy: 1st step toward Senate debat...   \n",
       "\n",
       "                                                                     4  \n",
       "_unit_id                                                     766192488  \n",
       "_golden                                                          False  \n",
       "_unit_state                                                  finalized  \n",
       "_trusted_judgments                                                   1  \n",
       "_last_judgment_at                                         8/4/15 21:26  \n",
       "audience                                                      national  \n",
       "audience:confidence                                                  1  \n",
       "bias                                                          partisan  \n",
       "bias:confidence                                                      1  \n",
       "message                                                         policy  \n",
       "message:confidence                                                   1  \n",
       "orig__golden                                                       NaN  \n",
       "audience_gold                                                      NaN  \n",
       "bias_gold                                                          NaN  \n",
       "bioid                                                          U000038  \n",
       "embed                <blockquote class=\"twitter-tweet\" width=\"450\">...  \n",
       "id                                                         4.07643E+17  \n",
       "label                         From: Mark Udall (Senator from Colorado)  \n",
       "message_gold                                                       NaN  \n",
       "source                                                         twitter  \n",
       "text                 .@amazon delivery #drones show need to update ...  "
      ]
     },
     "execution_count": 95,
     "metadata": {},
     "output_type": "execute_result"
    }
   ],
   "source": [
    "raw_df = pd.read_csv('data/Political-media-DFE.csv',encoding='latin')\n",
    "raw_df.head().T"
   ]
  },
  {
   "cell_type": "code",
   "execution_count": 96,
   "metadata": {},
   "outputs": [
    {
     "data": {
      "text/plain": [
       "neutral     3689\n",
       "partisan    1311\n",
       "Name: bias, dtype: int64"
      ]
     },
     "execution_count": 96,
     "metadata": {},
     "output_type": "execute_result"
    }
   ],
   "source": [
    "# Data Cleaning & Initial EDA\n",
    "df = raw_df[['bias','message','embed','label','source','text']]\n",
    "df['bias'].value_counts()"
   ]
  },
  {
   "cell_type": "code",
   "execution_count": 97,
   "metadata": {},
   "outputs": [],
   "source": [
    "#congressmen_2015 = pd.DataFrame(df['label'].unique())\n",
    "\n",
    "#type(congressmen_2015)\n",
    "\n",
    "#congressmen_2015.to_csv('congressmen_2015.csv')\n",
    "\n",
    "def remove_punctuations(text):\n",
    "    '''Removes punctuation from strings'''\n",
    "    for punctuation in string.punctuation:\n",
    "        text = text.replace(punctuation, '')\n",
    "    return text"
   ]
  },
  {
   "cell_type": "code",
   "execution_count": 98,
   "metadata": {},
   "outputs": [
    {
     "name": "stderr",
     "output_type": "stream",
     "text": [
      "/anaconda3/envs/learn-env/lib/python3.6/site-packages/ipykernel_launcher.py:1: SettingWithCopyWarning: \n",
      "A value is trying to be set on a copy of a slice from a DataFrame.\n",
      "Try using .loc[row_indexer,col_indexer] = value instead\n",
      "\n",
      "See the caveats in the documentation: http://pandas.pydata.org/pandas-docs/stable/indexing.html#indexing-view-versus-copy\n",
      "  \"\"\"Entry point for launching an IPython kernel.\n",
      "/anaconda3/envs/learn-env/lib/python3.6/site-packages/ipykernel_launcher.py:2: SettingWithCopyWarning: \n",
      "A value is trying to be set on a copy of a slice from a DataFrame.\n",
      "Try using .loc[row_indexer,col_indexer] = value instead\n",
      "\n",
      "See the caveats in the documentation: http://pandas.pydata.org/pandas-docs/stable/indexing.html#indexing-view-versus-copy\n",
      "  \n",
      "/anaconda3/envs/learn-env/lib/python3.6/site-packages/ipykernel_launcher.py:3: SettingWithCopyWarning: \n",
      "A value is trying to be set on a copy of a slice from a DataFrame.\n",
      "Try using .loc[row_indexer,col_indexer] = value instead\n",
      "\n",
      "See the caveats in the documentation: http://pandas.pydata.org/pandas-docs/stable/indexing.html#indexing-view-versus-copy\n",
      "  This is separate from the ipykernel package so we can avoid doing imports until\n",
      "/anaconda3/envs/learn-env/lib/python3.6/site-packages/ipykernel_launcher.py:4: SettingWithCopyWarning: \n",
      "A value is trying to be set on a copy of a slice from a DataFrame.\n",
      "Try using .loc[row_indexer,col_indexer] = value instead\n",
      "\n",
      "See the caveats in the documentation: http://pandas.pydata.org/pandas-docs/stable/indexing.html#indexing-view-versus-copy\n",
      "  after removing the cwd from sys.path.\n"
     ]
    }
   ],
   "source": [
    "df['text'] = df.loc[:,'text'].apply(remove_punctuations)\n",
    "df['label'] = df['label'].str.replace('From: ','')\n",
    "df['purpose_and_bias'] = df['message'] + '_' + df['bias']\n",
    "df['text'] = df['text'].str.lower()\n",
    "congressmen_df = pd.read_csv('congressmen_2015.csv')\n",
    "congressmen_df.head()\n",
    "df = df.merge(congressmen_df, how='left',left_on='label',right_on='congressman')\n",
    "df.loc[df.bias == 'partisan', 'target'] = df['affiliation']\n",
    "df.loc[df.bias == 'neutral', 'target'] = df['bias']"
   ]
  },
  {
   "cell_type": "code",
   "execution_count": 99,
   "metadata": {},
   "outputs": [
    {
     "name": "stdout",
     "output_type": "stream",
     "text": [
      "<class 'pandas.core.frame.DataFrame'>\n",
      "Int64Index: 4912 entries, 0 to 4999\n",
      "Data columns (total 12 columns):\n",
      "bias                4912 non-null object\n",
      "message             4912 non-null object\n",
      "embed               4912 non-null object\n",
      "label               4912 non-null object\n",
      "source              4912 non-null object\n",
      "text                4912 non-null object\n",
      "purpose_and_bias    4912 non-null object\n",
      "First               4912 non-null object\n",
      "Last                4912 non-null object\n",
      "congressman         4912 non-null object\n",
      "affiliation         4912 non-null object\n",
      "target              4912 non-null object\n",
      "dtypes: object(12)\n",
      "memory usage: 498.9+ KB\n"
     ]
    }
   ],
   "source": [
    "df.dropna(axis=0,inplace=True)\n",
    "df = df[df['target'] != 'i']\n",
    "df.info()"
   ]
  },
  {
   "cell_type": "code",
   "execution_count": 100,
   "metadata": {},
   "outputs": [
    {
     "data": {
      "text/plain": [
       "neutral    3631\n",
       "r           791\n",
       "d           490\n",
       "Name: target, dtype: int64"
      ]
     },
     "execution_count": 100,
     "metadata": {},
     "output_type": "execute_result"
    }
   ],
   "source": [
    "df['target'].value_counts()"
   ]
  },
  {
   "cell_type": "code",
   "execution_count": 101,
   "metadata": {},
   "outputs": [],
   "source": [
    "def replace_contraction(text):\n",
    "    '''Replaces contractions in words'''\n",
    "    contraction_patterns = [ (r'won\\'t', 'will not'), (r'can\\'t', 'can not'), (r'i\\'m', 'i am'), (r'ain\\'t', 'is not'), (r'(\\w+)\\'ll', '\\g<1> will'), (r'(\\w+)n\\'t', '\\g<1> not'),\n",
    "                         (r'(\\w+)\\'ve', '\\g<1> have'), (r'(\\w+)\\'s', '\\g<1> is'), (r'(\\w+)\\'re', '\\g<1> are'), (r'(\\w+)\\'d', '\\g<1> would'), (r'&', 'and'), (r'dammit', 'damn it'), (r'dont', 'do not'), (r'wont', 'will not') ]\n",
    "    patterns = [(re.compile(regex), repl) for (regex, repl) in contraction_patterns]\n",
    "    for (pattern, repl) in patterns:\n",
    "        (text, count) = re.subn(pattern, repl, text)\n",
    "    return text\n",
    "\n",
    "def replace_links(text, filler=' '):\n",
    "    '''Replaces Links with spaces'''\n",
    "    text = re.sub(r'((http|https)\\:\\/\\/)?[a-zA-Z0-9\\.\\/\\?\\:@\\-_=#]+\\.([a-zA-Z]){2,6}([a-zA-Z0-9\\.\\&\\/\\?\\:@\\-_=#])*',\n",
    "                  filler, text).strip()\n",
    "    return text\n",
    "\n",
    "def remove_numbers(text):\n",
    "    '''Removes digits from text'''\n",
    "    text = ''.join([i for i in text if not i.isdigit()])\n",
    "    return text\n",
    "\n",
    "def cleanText(text):\n",
    "    '''Executes all cleaning steps - line breaks, lowercase, punctuation, etc.'''\n",
    "    text = text.strip().replace(\"\\n\", \" \").replace(\"\\r\", \" \")\n",
    "    text = replace_contraction(text)\n",
    "    text = replace_links(text, \"link\")\n",
    "    text = remove_numbers(text)\n",
    "    text = re.sub(r'[,!@#$%^&*)(|/><\";:.?\\'\\\\}{]',\"\",text)\n",
    "    text = text.lower()\n",
    "    return text"
   ]
  },
  {
   "cell_type": "code",
   "execution_count": 109,
   "metadata": {},
   "outputs": [
    {
     "data": {
      "text/plain": [
       "0          r\n",
       "1          r\n",
       "2    neutral\n",
       "3    neutral\n",
       "4          d\n",
       "Name: target, dtype: object"
      ]
     },
     "execution_count": 109,
     "metadata": {},
     "output_type": "execute_result"
    }
   ],
   "source": [
    "X = df['text'].apply(cleanText)\n",
    "y = df['target']\n",
    "#y = label_binarize(y, classes=['neutral','r','d'])\n",
    "y[0:5]"
   ]
  },
  {
   "cell_type": "code",
   "execution_count": 110,
   "metadata": {},
   "outputs": [
    {
     "data": {
      "text/plain": [
       "4126    great news for seniors today ûò thanks to slo...\n",
       "1016    mt goulaglenn looking forward to hearing congp...\n",
       "4536    renewing femas safer program will help local s...\n",
       "1390    today the house voted to ensure that our heroe...\n",
       "2562    the beautiful grimes county courthouse in ande...\n",
       "Name: text, dtype: object"
      ]
     },
     "execution_count": 110,
     "metadata": {},
     "output_type": "execute_result"
    }
   ],
   "source": [
    "X_train, X_test, y_train, y_test = train_test_split(X,y,random_state=0,test_size=0.20)\n",
    "X_train.head()"
   ]
  },
  {
   "cell_type": "code",
   "execution_count": 111,
   "metadata": {},
   "outputs": [
    {
     "data": {
      "text/plain": [
       "4126    neutral\n",
       "1016    neutral\n",
       "4536    neutral\n",
       "1390    neutral\n",
       "2562    neutral\n",
       "Name: target, dtype: object"
      ]
     },
     "execution_count": 111,
     "metadata": {},
     "output_type": "execute_result"
    }
   ],
   "source": [
    "y_train[0:5]"
   ]
  },
  {
   "cell_type": "code",
   "execution_count": 112,
   "metadata": {},
   "outputs": [],
   "source": [
    "tfidf = TfidfVectorizer()"
   ]
  },
  {
   "cell_type": "code",
   "execution_count": 113,
   "metadata": {},
   "outputs": [],
   "source": [
    "logreg = LogisticRegression(multi_class='multinomial', solver='lbfgs')"
   ]
  },
  {
   "cell_type": "code",
   "execution_count": 114,
   "metadata": {},
   "outputs": [],
   "source": [
    "pipe = Pipeline(steps=[\n",
    "    ('tfidf', tfidf),\n",
    "    ('logreg', logreg)\n",
    "])"
   ]
  },
  {
   "cell_type": "code",
   "execution_count": 115,
   "metadata": {},
   "outputs": [
    {
     "data": {
      "text/plain": [
       "Pipeline(memory=None,\n",
       "     steps=[('tfidf', TfidfVectorizer(analyzer='word', binary=False, decode_error='strict',\n",
       "        dtype=<class 'numpy.float64'>, encoding='utf-8', input='content',\n",
       "        lowercase=True, max_df=1.0, max_features=None, min_df=1,\n",
       "        ngram_range=(1, 1), norm='l2', preprocessor=None, smooth_idf=True,...enalty='l2', random_state=None, solver='lbfgs',\n",
       "          tol=0.0001, verbose=0, warm_start=False))])"
      ]
     },
     "execution_count": 115,
     "metadata": {},
     "output_type": "execute_result"
    }
   ],
   "source": [
    "pipe.fit(X_train,y_train)"
   ]
  },
  {
   "cell_type": "code",
   "execution_count": 116,
   "metadata": {},
   "outputs": [
    {
     "data": {
      "text/plain": [
       "array(['d', 'neutral', 'r'], dtype=object)"
      ]
     },
     "execution_count": 116,
     "metadata": {},
     "output_type": "execute_result"
    }
   ],
   "source": [
    "pipe.classes_"
   ]
  },
  {
   "cell_type": "code",
   "execution_count": 121,
   "metadata": {},
   "outputs": [
    {
     "data": {
      "text/plain": [
       "array([[0.04237326, 0.87558554, 0.0820412 ],\n",
       "       [0.17292255, 0.43084048, 0.39623697],\n",
       "       [0.03111769, 0.13844658, 0.83043574],\n",
       "       [0.11400523, 0.75825668, 0.12773809],\n",
       "       [0.15749353, 0.78894841, 0.05355806]])"
      ]
     },
     "execution_count": 121,
     "metadata": {},
     "output_type": "execute_result"
    }
   ],
   "source": [
    "preds_prob = pipe.predict_proba(X_test)\n",
    "preds_prob[0:5]"
   ]
  },
  {
   "cell_type": "code",
   "execution_count": 120,
   "metadata": {},
   "outputs": [
    {
     "data": {
      "text/plain": [
       "array(['neutral', 'neutral', 'r', 'neutral', 'neutral'], dtype=object)"
      ]
     },
     "execution_count": 120,
     "metadata": {},
     "output_type": "execute_result"
    }
   ],
   "source": [
    "preds_label = pipe.predict(X_test)\n",
    "preds_label[0:5]"
   ]
  },
  {
   "cell_type": "code",
   "execution_count": 122,
   "metadata": {},
   "outputs": [
    {
     "data": {
      "text/plain": [
       "0.7558494404883012"
      ]
     },
     "execution_count": 122,
     "metadata": {},
     "output_type": "execute_result"
    }
   ],
   "source": [
    "pipe.score(X=X_test,y=y_test)"
   ]
  },
  {
   "cell_type": "code",
   "execution_count": 124,
   "metadata": {},
   "outputs": [],
   "source": [
    "def multiclass_roc_auc_score(y_test, y_pred, average=\"macro\"):\n",
    "    '''Compute multiclass roc_auc_score'''\n",
    "    lb = LabelBinarizer()\n",
    "    lb.fit(y_test)\n",
    "    y_test = lb.transform(y_test)\n",
    "    y_pred = lb.transform(y_pred)\n",
    "    return roc_auc_score(y_test, y_pred, average=average)"
   ]
  },
  {
   "cell_type": "code",
   "execution_count": 132,
   "metadata": {},
   "outputs": [
    {
     "data": {
      "text/plain": [
       "0.8168870803662258"
      ]
     },
     "execution_count": 132,
     "metadata": {},
     "output_type": "execute_result"
    }
   ],
   "source": [
    "multiclass_roc_auc_score(y_test,preds_label,average='micro')"
   ]
  },
  {
   "cell_type": "code",
   "execution_count": 138,
   "metadata": {},
   "outputs": [
    {
     "name": "stdout",
     "output_type": "stream",
     "text": [
      "Accuracy: 0.7558494404883012\n",
      "Recall: 0.7558494404883012\n",
      "Precision: 0.7558494404883012\n",
      "F1 Score: 0.7558494404883012\n"
     ]
    }
   ],
   "source": [
    "print(f\"Accuracy: {accuracy_score(y_test,preds_label)}\")\n",
    "print(f\"Recall: {recall_score(y_test,preds_label,average='micro')}\")\n",
    "print(f\"Precision: {precision_score(y_test,preds_label,average='micro')}\")\n",
    "print(f\"F1 Score: {f1_score(y_test,preds_label,average='micro')}\")"
   ]
  },
  {
   "cell_type": "markdown",
   "metadata": {},
   "source": [
    "- Micro- and macro-averages (for whatever metric) will compute slightly different things, and thus their interpretation differs. A macro-average will compute the metric independently for each class and then take the average (hence treating all classes equally), whereas a micro-average will aggregate the contributions of all classes to compute the average metric (better with class imbalance, which we have here)."
   ]
  },
  {
   "cell_type": "code",
   "execution_count": null,
   "metadata": {},
   "outputs": [],
   "source": []
  }
 ],
 "metadata": {
  "kernelspec": {
   "display_name": "learn-env",
   "language": "python",
   "name": "learn-env"
  },
  "language_info": {
   "codemirror_mode": {
    "name": "ipython",
    "version": 3
   },
   "file_extension": ".py",
   "mimetype": "text/x-python",
   "name": "python",
   "nbconvert_exporter": "python",
   "pygments_lexer": "ipython3",
   "version": "3.6.6"
  }
 },
 "nbformat": 4,
 "nbformat_minor": 2
}
