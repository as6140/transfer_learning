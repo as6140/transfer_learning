{
 "cells": [
  {
   "cell_type": "markdown",
   "metadata": {},
   "source": [
    "# Imports & Data Loading"
   ]
  },
  {
   "cell_type": "code",
   "execution_count": 2,
   "metadata": {
    "scrolled": false
   },
   "outputs": [
    {
     "name": "stderr",
     "output_type": "stream",
     "text": [
      "WARNING: Logging before flag parsing goes to stderr.\n",
      "W0619 20:20:50.535978 4505654720 __init__.py:56] Some hub symbols are not available because TensorFlow version is less than 1.14\n",
      "Using TensorFlow backend.\n"
     ]
    }
   ],
   "source": [
    "import pandas as pd\n",
    "import matplotlib.pyplot as plt\n",
    "import string\n",
    "from sklearn.model_selection import train_test_split\n",
    "from sklearn.preprocessing import LabelEncoder\n",
    "import numpy as np\n",
    "import tensorflow as tf\n",
    "import tensorflow_hub as hub\n",
    "\n",
    "import tensorflow.keras as keras \n",
    "from keras.layers import Input, Lambda, Dense\n",
    "from keras.models import Model\n",
    "import keras.backend as K"
   ]
  },
  {
   "cell_type": "code",
   "execution_count": 3,
   "metadata": {},
   "outputs": [
    {
     "data": {
      "text/html": [
       "<div>\n",
       "<style scoped>\n",
       "    .dataframe tbody tr th:only-of-type {\n",
       "        vertical-align: middle;\n",
       "    }\n",
       "\n",
       "    .dataframe tbody tr th {\n",
       "        vertical-align: top;\n",
       "    }\n",
       "\n",
       "    .dataframe thead th {\n",
       "        text-align: right;\n",
       "    }\n",
       "</style>\n",
       "<table border=\"1\" class=\"dataframe\">\n",
       "  <thead>\n",
       "    <tr style=\"text-align: right;\">\n",
       "      <th></th>\n",
       "      <th>0</th>\n",
       "      <th>1</th>\n",
       "      <th>2</th>\n",
       "      <th>3</th>\n",
       "      <th>4</th>\n",
       "    </tr>\n",
       "  </thead>\n",
       "  <tbody>\n",
       "    <tr>\n",
       "      <th>_unit_id</th>\n",
       "      <td>766192484</td>\n",
       "      <td>766192485</td>\n",
       "      <td>766192486</td>\n",
       "      <td>766192487</td>\n",
       "      <td>766192488</td>\n",
       "    </tr>\n",
       "    <tr>\n",
       "      <th>_golden</th>\n",
       "      <td>False</td>\n",
       "      <td>False</td>\n",
       "      <td>False</td>\n",
       "      <td>False</td>\n",
       "      <td>False</td>\n",
       "    </tr>\n",
       "    <tr>\n",
       "      <th>_unit_state</th>\n",
       "      <td>finalized</td>\n",
       "      <td>finalized</td>\n",
       "      <td>finalized</td>\n",
       "      <td>finalized</td>\n",
       "      <td>finalized</td>\n",
       "    </tr>\n",
       "    <tr>\n",
       "      <th>_trusted_judgments</th>\n",
       "      <td>1</td>\n",
       "      <td>1</td>\n",
       "      <td>1</td>\n",
       "      <td>1</td>\n",
       "      <td>1</td>\n",
       "    </tr>\n",
       "    <tr>\n",
       "      <th>_last_judgment_at</th>\n",
       "      <td>8/4/15 21:17</td>\n",
       "      <td>8/4/15 21:20</td>\n",
       "      <td>8/4/15 21:14</td>\n",
       "      <td>8/4/15 21:08</td>\n",
       "      <td>8/4/15 21:26</td>\n",
       "    </tr>\n",
       "    <tr>\n",
       "      <th>audience</th>\n",
       "      <td>national</td>\n",
       "      <td>national</td>\n",
       "      <td>national</td>\n",
       "      <td>national</td>\n",
       "      <td>national</td>\n",
       "    </tr>\n",
       "    <tr>\n",
       "      <th>audience:confidence</th>\n",
       "      <td>1</td>\n",
       "      <td>1</td>\n",
       "      <td>1</td>\n",
       "      <td>1</td>\n",
       "      <td>1</td>\n",
       "    </tr>\n",
       "    <tr>\n",
       "      <th>bias</th>\n",
       "      <td>partisan</td>\n",
       "      <td>partisan</td>\n",
       "      <td>neutral</td>\n",
       "      <td>neutral</td>\n",
       "      <td>partisan</td>\n",
       "    </tr>\n",
       "    <tr>\n",
       "      <th>bias:confidence</th>\n",
       "      <td>1</td>\n",
       "      <td>1</td>\n",
       "      <td>1</td>\n",
       "      <td>1</td>\n",
       "      <td>1</td>\n",
       "    </tr>\n",
       "    <tr>\n",
       "      <th>message</th>\n",
       "      <td>policy</td>\n",
       "      <td>attack</td>\n",
       "      <td>support</td>\n",
       "      <td>policy</td>\n",
       "      <td>policy</td>\n",
       "    </tr>\n",
       "    <tr>\n",
       "      <th>message:confidence</th>\n",
       "      <td>1</td>\n",
       "      <td>1</td>\n",
       "      <td>1</td>\n",
       "      <td>1</td>\n",
       "      <td>1</td>\n",
       "    </tr>\n",
       "    <tr>\n",
       "      <th>orig__golden</th>\n",
       "      <td>NaN</td>\n",
       "      <td>NaN</td>\n",
       "      <td>NaN</td>\n",
       "      <td>NaN</td>\n",
       "      <td>NaN</td>\n",
       "    </tr>\n",
       "    <tr>\n",
       "      <th>audience_gold</th>\n",
       "      <td>NaN</td>\n",
       "      <td>NaN</td>\n",
       "      <td>NaN</td>\n",
       "      <td>NaN</td>\n",
       "      <td>NaN</td>\n",
       "    </tr>\n",
       "    <tr>\n",
       "      <th>bias_gold</th>\n",
       "      <td>NaN</td>\n",
       "      <td>NaN</td>\n",
       "      <td>NaN</td>\n",
       "      <td>NaN</td>\n",
       "      <td>NaN</td>\n",
       "    </tr>\n",
       "    <tr>\n",
       "      <th>bioid</th>\n",
       "      <td>R000596</td>\n",
       "      <td>M000355</td>\n",
       "      <td>S001180</td>\n",
       "      <td>C000880</td>\n",
       "      <td>U000038</td>\n",
       "    </tr>\n",
       "    <tr>\n",
       "      <th>embed</th>\n",
       "      <td>&lt;blockquote class=\"twitter-tweet\" width=\"450\"&gt;...</td>\n",
       "      <td>&lt;blockquote class=\"twitter-tweet\" width=\"450\"&gt;...</td>\n",
       "      <td>&lt;blockquote class=\"twitter-tweet\" width=\"450\"&gt;...</td>\n",
       "      <td>&lt;blockquote class=\"twitter-tweet\" width=\"450\"&gt;...</td>\n",
       "      <td>&lt;blockquote class=\"twitter-tweet\" width=\"450\"&gt;...</td>\n",
       "    </tr>\n",
       "    <tr>\n",
       "      <th>id</th>\n",
       "      <td>3.83249E+17</td>\n",
       "      <td>3.11208E+17</td>\n",
       "      <td>3.39069E+17</td>\n",
       "      <td>2.98528E+17</td>\n",
       "      <td>4.07643E+17</td>\n",
       "    </tr>\n",
       "    <tr>\n",
       "      <th>label</th>\n",
       "      <td>From: Trey Radel (Representative from Florida)</td>\n",
       "      <td>From: Mitch McConnell (Senator from Kentucky)</td>\n",
       "      <td>From: Kurt Schrader (Representative from Oregon)</td>\n",
       "      <td>From: Michael Crapo (Senator from Idaho)</td>\n",
       "      <td>From: Mark Udall (Senator from Colorado)</td>\n",
       "    </tr>\n",
       "    <tr>\n",
       "      <th>message_gold</th>\n",
       "      <td>NaN</td>\n",
       "      <td>NaN</td>\n",
       "      <td>NaN</td>\n",
       "      <td>NaN</td>\n",
       "      <td>NaN</td>\n",
       "    </tr>\n",
       "    <tr>\n",
       "      <th>source</th>\n",
       "      <td>twitter</td>\n",
       "      <td>twitter</td>\n",
       "      <td>twitter</td>\n",
       "      <td>twitter</td>\n",
       "      <td>twitter</td>\n",
       "    </tr>\n",
       "    <tr>\n",
       "      <th>text</th>\n",
       "      <td>RT @nowthisnews: Rep. Trey Radel (R- #FL) slam...</td>\n",
       "      <td>VIDEO - #Obamacare:  Full of Higher Costs and ...</td>\n",
       "      <td>Please join me today in remembering our fallen...</td>\n",
       "      <td>RT @SenatorLeahy: 1st step toward Senate debat...</td>\n",
       "      <td>.@amazon delivery #drones show need to update ...</td>\n",
       "    </tr>\n",
       "  </tbody>\n",
       "</table>\n",
       "</div>"
      ],
      "text/plain": [
       "                                                                     0  \\\n",
       "_unit_id                                                     766192484   \n",
       "_golden                                                          False   \n",
       "_unit_state                                                  finalized   \n",
       "_trusted_judgments                                                   1   \n",
       "_last_judgment_at                                         8/4/15 21:17   \n",
       "audience                                                      national   \n",
       "audience:confidence                                                  1   \n",
       "bias                                                          partisan   \n",
       "bias:confidence                                                      1   \n",
       "message                                                         policy   \n",
       "message:confidence                                                   1   \n",
       "orig__golden                                                       NaN   \n",
       "audience_gold                                                      NaN   \n",
       "bias_gold                                                          NaN   \n",
       "bioid                                                          R000596   \n",
       "embed                <blockquote class=\"twitter-tweet\" width=\"450\">...   \n",
       "id                                                         3.83249E+17   \n",
       "label                   From: Trey Radel (Representative from Florida)   \n",
       "message_gold                                                       NaN   \n",
       "source                                                         twitter   \n",
       "text                 RT @nowthisnews: Rep. Trey Radel (R- #FL) slam...   \n",
       "\n",
       "                                                                     1  \\\n",
       "_unit_id                                                     766192485   \n",
       "_golden                                                          False   \n",
       "_unit_state                                                  finalized   \n",
       "_trusted_judgments                                                   1   \n",
       "_last_judgment_at                                         8/4/15 21:20   \n",
       "audience                                                      national   \n",
       "audience:confidence                                                  1   \n",
       "bias                                                          partisan   \n",
       "bias:confidence                                                      1   \n",
       "message                                                         attack   \n",
       "message:confidence                                                   1   \n",
       "orig__golden                                                       NaN   \n",
       "audience_gold                                                      NaN   \n",
       "bias_gold                                                          NaN   \n",
       "bioid                                                          M000355   \n",
       "embed                <blockquote class=\"twitter-tweet\" width=\"450\">...   \n",
       "id                                                         3.11208E+17   \n",
       "label                    From: Mitch McConnell (Senator from Kentucky)   \n",
       "message_gold                                                       NaN   \n",
       "source                                                         twitter   \n",
       "text                 VIDEO - #Obamacare:  Full of Higher Costs and ...   \n",
       "\n",
       "                                                                     2  \\\n",
       "_unit_id                                                     766192486   \n",
       "_golden                                                          False   \n",
       "_unit_state                                                  finalized   \n",
       "_trusted_judgments                                                   1   \n",
       "_last_judgment_at                                         8/4/15 21:14   \n",
       "audience                                                      national   \n",
       "audience:confidence                                                  1   \n",
       "bias                                                           neutral   \n",
       "bias:confidence                                                      1   \n",
       "message                                                        support   \n",
       "message:confidence                                                   1   \n",
       "orig__golden                                                       NaN   \n",
       "audience_gold                                                      NaN   \n",
       "bias_gold                                                          NaN   \n",
       "bioid                                                          S001180   \n",
       "embed                <blockquote class=\"twitter-tweet\" width=\"450\">...   \n",
       "id                                                         3.39069E+17   \n",
       "label                 From: Kurt Schrader (Representative from Oregon)   \n",
       "message_gold                                                       NaN   \n",
       "source                                                         twitter   \n",
       "text                 Please join me today in remembering our fallen...   \n",
       "\n",
       "                                                                     3  \\\n",
       "_unit_id                                                     766192487   \n",
       "_golden                                                          False   \n",
       "_unit_state                                                  finalized   \n",
       "_trusted_judgments                                                   1   \n",
       "_last_judgment_at                                         8/4/15 21:08   \n",
       "audience                                                      national   \n",
       "audience:confidence                                                  1   \n",
       "bias                                                           neutral   \n",
       "bias:confidence                                                      1   \n",
       "message                                                         policy   \n",
       "message:confidence                                                   1   \n",
       "orig__golden                                                       NaN   \n",
       "audience_gold                                                      NaN   \n",
       "bias_gold                                                          NaN   \n",
       "bioid                                                          C000880   \n",
       "embed                <blockquote class=\"twitter-tweet\" width=\"450\">...   \n",
       "id                                                         2.98528E+17   \n",
       "label                         From: Michael Crapo (Senator from Idaho)   \n",
       "message_gold                                                       NaN   \n",
       "source                                                         twitter   \n",
       "text                 RT @SenatorLeahy: 1st step toward Senate debat...   \n",
       "\n",
       "                                                                     4  \n",
       "_unit_id                                                     766192488  \n",
       "_golden                                                          False  \n",
       "_unit_state                                                  finalized  \n",
       "_trusted_judgments                                                   1  \n",
       "_last_judgment_at                                         8/4/15 21:26  \n",
       "audience                                                      national  \n",
       "audience:confidence                                                  1  \n",
       "bias                                                          partisan  \n",
       "bias:confidence                                                      1  \n",
       "message                                                         policy  \n",
       "message:confidence                                                   1  \n",
       "orig__golden                                                       NaN  \n",
       "audience_gold                                                      NaN  \n",
       "bias_gold                                                          NaN  \n",
       "bioid                                                          U000038  \n",
       "embed                <blockquote class=\"twitter-tweet\" width=\"450\">...  \n",
       "id                                                         4.07643E+17  \n",
       "label                         From: Mark Udall (Senator from Colorado)  \n",
       "message_gold                                                       NaN  \n",
       "source                                                         twitter  \n",
       "text                 .@amazon delivery #drones show need to update ...  "
      ]
     },
     "execution_count": 3,
     "metadata": {},
     "output_type": "execute_result"
    }
   ],
   "source": [
    "raw_df = pd.read_csv('data/Political-media-DFE.csv',encoding='latin')\n",
    "raw_df.head().T"
   ]
  },
  {
   "cell_type": "markdown",
   "metadata": {},
   "source": [
    "# Data Cleaning & Initial EDA"
   ]
  },
  {
   "cell_type": "code",
   "execution_count": 4,
   "metadata": {},
   "outputs": [
    {
     "data": {
      "text/html": [
       "<div>\n",
       "<style scoped>\n",
       "    .dataframe tbody tr th:only-of-type {\n",
       "        vertical-align: middle;\n",
       "    }\n",
       "\n",
       "    .dataframe tbody tr th {\n",
       "        vertical-align: top;\n",
       "    }\n",
       "\n",
       "    .dataframe thead th {\n",
       "        text-align: right;\n",
       "    }\n",
       "</style>\n",
       "<table border=\"1\" class=\"dataframe\">\n",
       "  <thead>\n",
       "    <tr style=\"text-align: right;\">\n",
       "      <th></th>\n",
       "      <th>0</th>\n",
       "      <th>1</th>\n",
       "      <th>2</th>\n",
       "      <th>3</th>\n",
       "      <th>4</th>\n",
       "    </tr>\n",
       "  </thead>\n",
       "  <tbody>\n",
       "    <tr>\n",
       "      <th>bias</th>\n",
       "      <td>partisan</td>\n",
       "      <td>partisan</td>\n",
       "      <td>neutral</td>\n",
       "      <td>neutral</td>\n",
       "      <td>partisan</td>\n",
       "    </tr>\n",
       "    <tr>\n",
       "      <th>message</th>\n",
       "      <td>policy</td>\n",
       "      <td>attack</td>\n",
       "      <td>support</td>\n",
       "      <td>policy</td>\n",
       "      <td>policy</td>\n",
       "    </tr>\n",
       "    <tr>\n",
       "      <th>embed</th>\n",
       "      <td>&lt;blockquote class=\"twitter-tweet\" width=\"450\"&gt;...</td>\n",
       "      <td>&lt;blockquote class=\"twitter-tweet\" width=\"450\"&gt;...</td>\n",
       "      <td>&lt;blockquote class=\"twitter-tweet\" width=\"450\"&gt;...</td>\n",
       "      <td>&lt;blockquote class=\"twitter-tweet\" width=\"450\"&gt;...</td>\n",
       "      <td>&lt;blockquote class=\"twitter-tweet\" width=\"450\"&gt;...</td>\n",
       "    </tr>\n",
       "    <tr>\n",
       "      <th>label</th>\n",
       "      <td>From: Trey Radel (Representative from Florida)</td>\n",
       "      <td>From: Mitch McConnell (Senator from Kentucky)</td>\n",
       "      <td>From: Kurt Schrader (Representative from Oregon)</td>\n",
       "      <td>From: Michael Crapo (Senator from Idaho)</td>\n",
       "      <td>From: Mark Udall (Senator from Colorado)</td>\n",
       "    </tr>\n",
       "    <tr>\n",
       "      <th>source</th>\n",
       "      <td>twitter</td>\n",
       "      <td>twitter</td>\n",
       "      <td>twitter</td>\n",
       "      <td>twitter</td>\n",
       "      <td>twitter</td>\n",
       "    </tr>\n",
       "    <tr>\n",
       "      <th>text</th>\n",
       "      <td>RT @nowthisnews: Rep. Trey Radel (R- #FL) slam...</td>\n",
       "      <td>VIDEO - #Obamacare:  Full of Higher Costs and ...</td>\n",
       "      <td>Please join me today in remembering our fallen...</td>\n",
       "      <td>RT @SenatorLeahy: 1st step toward Senate debat...</td>\n",
       "      <td>.@amazon delivery #drones show need to update ...</td>\n",
       "    </tr>\n",
       "  </tbody>\n",
       "</table>\n",
       "</div>"
      ],
      "text/plain": [
       "                                                         0  \\\n",
       "bias                                              partisan   \n",
       "message                                             policy   \n",
       "embed    <blockquote class=\"twitter-tweet\" width=\"450\">...   \n",
       "label       From: Trey Radel (Representative from Florida)   \n",
       "source                                             twitter   \n",
       "text     RT @nowthisnews: Rep. Trey Radel (R- #FL) slam...   \n",
       "\n",
       "                                                         1  \\\n",
       "bias                                              partisan   \n",
       "message                                             attack   \n",
       "embed    <blockquote class=\"twitter-tweet\" width=\"450\">...   \n",
       "label        From: Mitch McConnell (Senator from Kentucky)   \n",
       "source                                             twitter   \n",
       "text     VIDEO - #Obamacare:  Full of Higher Costs and ...   \n",
       "\n",
       "                                                         2  \\\n",
       "bias                                               neutral   \n",
       "message                                            support   \n",
       "embed    <blockquote class=\"twitter-tweet\" width=\"450\">...   \n",
       "label     From: Kurt Schrader (Representative from Oregon)   \n",
       "source                                             twitter   \n",
       "text     Please join me today in remembering our fallen...   \n",
       "\n",
       "                                                         3  \\\n",
       "bias                                               neutral   \n",
       "message                                             policy   \n",
       "embed    <blockquote class=\"twitter-tweet\" width=\"450\">...   \n",
       "label             From: Michael Crapo (Senator from Idaho)   \n",
       "source                                             twitter   \n",
       "text     RT @SenatorLeahy: 1st step toward Senate debat...   \n",
       "\n",
       "                                                         4  \n",
       "bias                                              partisan  \n",
       "message                                             policy  \n",
       "embed    <blockquote class=\"twitter-tweet\" width=\"450\">...  \n",
       "label             From: Mark Udall (Senator from Colorado)  \n",
       "source                                             twitter  \n",
       "text     .@amazon delivery #drones show need to update ...  "
      ]
     },
     "execution_count": 4,
     "metadata": {},
     "output_type": "execute_result"
    }
   ],
   "source": [
    "df = raw_df[['bias','message','embed','label','source','text']]\n",
    "df.head().T"
   ]
  },
  {
   "cell_type": "code",
   "execution_count": 5,
   "metadata": {},
   "outputs": [
    {
     "data": {
      "text/plain": [
       "neutral     3689\n",
       "partisan    1311\n",
       "Name: bias, dtype: int64"
      ]
     },
     "execution_count": 5,
     "metadata": {},
     "output_type": "execute_result"
    }
   ],
   "source": [
    "df['bias'].value_counts()"
   ]
  },
  {
   "cell_type": "code",
   "execution_count": 6,
   "metadata": {},
   "outputs": [
    {
     "data": {
      "text/plain": [
       "policy          1411\n",
       "personal        1170\n",
       "support          921\n",
       "information      647\n",
       "media            277\n",
       "attack           172\n",
       "constituency     152\n",
       "mobilization     129\n",
       "other            121\n",
       "Name: message, dtype: int64"
      ]
     },
     "execution_count": 6,
     "metadata": {},
     "output_type": "execute_result"
    }
   ],
   "source": [
    "df['message'].value_counts()"
   ]
  },
  {
   "cell_type": "code",
   "execution_count": 7,
   "metadata": {},
   "outputs": [],
   "source": [
    "#congressmen_2015 = pd.DataFrame(df['label'].unique())"
   ]
  },
  {
   "cell_type": "code",
   "execution_count": 8,
   "metadata": {},
   "outputs": [],
   "source": [
    "#type(congressmen_2015)"
   ]
  },
  {
   "cell_type": "code",
   "execution_count": 9,
   "metadata": {},
   "outputs": [],
   "source": [
    "#congressmen_2015.to_csv('congressmen_2015.csv')"
   ]
  },
  {
   "cell_type": "code",
   "execution_count": 10,
   "metadata": {},
   "outputs": [],
   "source": [
    "def remove_punctuations(text):\n",
    "    '''Removes punctuation from strings'''\n",
    "    for punctuation in string.punctuation:\n",
    "        text = text.replace(punctuation, '')\n",
    "    return text"
   ]
  },
  {
   "cell_type": "code",
   "execution_count": 11,
   "metadata": {},
   "outputs": [
    {
     "name": "stderr",
     "output_type": "stream",
     "text": [
      "/anaconda3/envs/learn-env/lib/python3.6/site-packages/ipykernel_launcher.py:1: SettingWithCopyWarning: \n",
      "A value is trying to be set on a copy of a slice from a DataFrame.\n",
      "Try using .loc[row_indexer,col_indexer] = value instead\n",
      "\n",
      "See the caveats in the documentation: http://pandas.pydata.org/pandas-docs/stable/indexing.html#indexing-view-versus-copy\n",
      "  \"\"\"Entry point for launching an IPython kernel.\n",
      "/anaconda3/envs/learn-env/lib/python3.6/site-packages/ipykernel_launcher.py:2: SettingWithCopyWarning: \n",
      "A value is trying to be set on a copy of a slice from a DataFrame.\n",
      "Try using .loc[row_indexer,col_indexer] = value instead\n",
      "\n",
      "See the caveats in the documentation: http://pandas.pydata.org/pandas-docs/stable/indexing.html#indexing-view-versus-copy\n",
      "  \n",
      "/anaconda3/envs/learn-env/lib/python3.6/site-packages/ipykernel_launcher.py:3: SettingWithCopyWarning: \n",
      "A value is trying to be set on a copy of a slice from a DataFrame.\n",
      "Try using .loc[row_indexer,col_indexer] = value instead\n",
      "\n",
      "See the caveats in the documentation: http://pandas.pydata.org/pandas-docs/stable/indexing.html#indexing-view-versus-copy\n",
      "  This is separate from the ipykernel package so we can avoid doing imports until\n",
      "/anaconda3/envs/learn-env/lib/python3.6/site-packages/ipykernel_launcher.py:4: SettingWithCopyWarning: \n",
      "A value is trying to be set on a copy of a slice from a DataFrame.\n",
      "Try using .loc[row_indexer,col_indexer] = value instead\n",
      "\n",
      "See the caveats in the documentation: http://pandas.pydata.org/pandas-docs/stable/indexing.html#indexing-view-versus-copy\n",
      "  after removing the cwd from sys.path.\n"
     ]
    }
   ],
   "source": [
    "df['text'] = df.loc[:,'text'].apply(remove_punctuations)\n",
    "df['label'] = df['label'].str.replace('From: ','')\n",
    "df['purpose_and_bias'] = df['message'] + '_' + df['bias']\n",
    "df['text'] = df['text'].str.lower()"
   ]
  },
  {
   "cell_type": "code",
   "execution_count": 12,
   "metadata": {},
   "outputs": [
    {
     "data": {
      "text/html": [
       "<div>\n",
       "<style scoped>\n",
       "    .dataframe tbody tr th:only-of-type {\n",
       "        vertical-align: middle;\n",
       "    }\n",
       "\n",
       "    .dataframe tbody tr th {\n",
       "        vertical-align: top;\n",
       "    }\n",
       "\n",
       "    .dataframe thead th {\n",
       "        text-align: right;\n",
       "    }\n",
       "</style>\n",
       "<table border=\"1\" class=\"dataframe\">\n",
       "  <thead>\n",
       "    <tr style=\"text-align: right;\">\n",
       "      <th></th>\n",
       "      <th>bias</th>\n",
       "      <th>message</th>\n",
       "      <th>embed</th>\n",
       "      <th>label</th>\n",
       "      <th>source</th>\n",
       "      <th>text</th>\n",
       "      <th>purpose_and_bias</th>\n",
       "    </tr>\n",
       "  </thead>\n",
       "  <tbody>\n",
       "    <tr>\n",
       "      <th>0</th>\n",
       "      <td>partisan</td>\n",
       "      <td>policy</td>\n",
       "      <td>&lt;blockquote class=\"twitter-tweet\" width=\"450\"&gt;...</td>\n",
       "      <td>Trey Radel (Representative from Florida)</td>\n",
       "      <td>twitter</td>\n",
       "      <td>rt nowthisnews rep trey radel r fl slams obama...</td>\n",
       "      <td>policy_partisan</td>\n",
       "    </tr>\n",
       "    <tr>\n",
       "      <th>1</th>\n",
       "      <td>partisan</td>\n",
       "      <td>attack</td>\n",
       "      <td>&lt;blockquote class=\"twitter-tweet\" width=\"450\"&gt;...</td>\n",
       "      <td>Mitch McConnell (Senator from Kentucky)</td>\n",
       "      <td>twitter</td>\n",
       "      <td>video  obamacare  full of higher costs and bro...</td>\n",
       "      <td>attack_partisan</td>\n",
       "    </tr>\n",
       "    <tr>\n",
       "      <th>2</th>\n",
       "      <td>neutral</td>\n",
       "      <td>support</td>\n",
       "      <td>&lt;blockquote class=\"twitter-tweet\" width=\"450\"&gt;...</td>\n",
       "      <td>Kurt Schrader (Representative from Oregon)</td>\n",
       "      <td>twitter</td>\n",
       "      <td>please join me today in remembering our fallen...</td>\n",
       "      <td>support_neutral</td>\n",
       "    </tr>\n",
       "    <tr>\n",
       "      <th>3</th>\n",
       "      <td>neutral</td>\n",
       "      <td>policy</td>\n",
       "      <td>&lt;blockquote class=\"twitter-tweet\" width=\"450\"&gt;...</td>\n",
       "      <td>Michael Crapo (Senator from Idaho)</td>\n",
       "      <td>twitter</td>\n",
       "      <td>rt senatorleahy 1st step toward senate debate ...</td>\n",
       "      <td>policy_neutral</td>\n",
       "    </tr>\n",
       "    <tr>\n",
       "      <th>4</th>\n",
       "      <td>partisan</td>\n",
       "      <td>policy</td>\n",
       "      <td>&lt;blockquote class=\"twitter-tweet\" width=\"450\"&gt;...</td>\n",
       "      <td>Mark Udall (Senator from Colorado)</td>\n",
       "      <td>twitter</td>\n",
       "      <td>amazon delivery drones show need to update law...</td>\n",
       "      <td>policy_partisan</td>\n",
       "    </tr>\n",
       "  </tbody>\n",
       "</table>\n",
       "</div>"
      ],
      "text/plain": [
       "       bias  message                                              embed  \\\n",
       "0  partisan   policy  <blockquote class=\"twitter-tweet\" width=\"450\">...   \n",
       "1  partisan   attack  <blockquote class=\"twitter-tweet\" width=\"450\">...   \n",
       "2   neutral  support  <blockquote class=\"twitter-tweet\" width=\"450\">...   \n",
       "3   neutral   policy  <blockquote class=\"twitter-tweet\" width=\"450\">...   \n",
       "4  partisan   policy  <blockquote class=\"twitter-tweet\" width=\"450\">...   \n",
       "\n",
       "                                        label   source  \\\n",
       "0    Trey Radel (Representative from Florida)  twitter   \n",
       "1     Mitch McConnell (Senator from Kentucky)  twitter   \n",
       "2  Kurt Schrader (Representative from Oregon)  twitter   \n",
       "3          Michael Crapo (Senator from Idaho)  twitter   \n",
       "4          Mark Udall (Senator from Colorado)  twitter   \n",
       "\n",
       "                                                text purpose_and_bias  \n",
       "0  rt nowthisnews rep trey radel r fl slams obama...  policy_partisan  \n",
       "1  video  obamacare  full of higher costs and bro...  attack_partisan  \n",
       "2  please join me today in remembering our fallen...  support_neutral  \n",
       "3  rt senatorleahy 1st step toward senate debate ...   policy_neutral  \n",
       "4  amazon delivery drones show need to update law...  policy_partisan  "
      ]
     },
     "execution_count": 12,
     "metadata": {},
     "output_type": "execute_result"
    }
   ],
   "source": [
    "df.head()"
   ]
  },
  {
   "cell_type": "code",
   "execution_count": 13,
   "metadata": {},
   "outputs": [
    {
     "data": {
      "text/plain": [
       "personal_neutral         1073\n",
       "support_neutral           751\n",
       "policy_partisan           706\n",
       "policy_neutral            705\n",
       "information_neutral       565\n",
       "media_neutral             247\n",
       "support_partisan          170\n",
       "attack_partisan           160\n",
       "constituency_neutral      129\n",
       "other_neutral             117\n",
       "personal_partisan          97\n",
       "mobilization_neutral       90\n",
       "information_partisan       82\n",
       "mobilization_partisan      39\n",
       "media_partisan             30\n",
       "constituency_partisan      23\n",
       "attack_neutral             12\n",
       "other_partisan              4\n",
       "Name: purpose_and_bias, dtype: int64"
      ]
     },
     "execution_count": 13,
     "metadata": {},
     "output_type": "execute_result"
    }
   ],
   "source": [
    "df['purpose_and_bias'].value_counts()"
   ]
  },
  {
   "cell_type": "code",
   "execution_count": 14,
   "metadata": {},
   "outputs": [
    {
     "data": {
      "text/html": [
       "<div>\n",
       "<style scoped>\n",
       "    .dataframe tbody tr th:only-of-type {\n",
       "        vertical-align: middle;\n",
       "    }\n",
       "\n",
       "    .dataframe tbody tr th {\n",
       "        vertical-align: top;\n",
       "    }\n",
       "\n",
       "    .dataframe thead th {\n",
       "        text-align: right;\n",
       "    }\n",
       "</style>\n",
       "<table border=\"1\" class=\"dataframe\">\n",
       "  <thead>\n",
       "    <tr style=\"text-align: right;\">\n",
       "      <th></th>\n",
       "      <th>First</th>\n",
       "      <th>Last</th>\n",
       "      <th>congressman</th>\n",
       "      <th>affiliation</th>\n",
       "    </tr>\n",
       "  </thead>\n",
       "  <tbody>\n",
       "    <tr>\n",
       "      <th>0</th>\n",
       "      <td>Gregorio</td>\n",
       "      <td>Sablan</td>\n",
       "      <td>Gregorio Sablan (Representative from NA)</td>\n",
       "      <td>d</td>\n",
       "    </tr>\n",
       "    <tr>\n",
       "      <th>1</th>\n",
       "      <td>Robert</td>\n",
       "      <td>Aderholt</td>\n",
       "      <td>Robert Aderholt (Representative from Alabama)</td>\n",
       "      <td>r</td>\n",
       "    </tr>\n",
       "    <tr>\n",
       "      <th>2</th>\n",
       "      <td>Lamar</td>\n",
       "      <td>Alexander</td>\n",
       "      <td>Lamar Alexander (Senator from Tennessee)</td>\n",
       "      <td>r</td>\n",
       "    </tr>\n",
       "    <tr>\n",
       "      <th>3</th>\n",
       "      <td>Justin</td>\n",
       "      <td>Amash</td>\n",
       "      <td>Justin Amash (Representative from Michigan)</td>\n",
       "      <td>r</td>\n",
       "    </tr>\n",
       "    <tr>\n",
       "      <th>4</th>\n",
       "      <td>Mark</td>\n",
       "      <td>Amodei</td>\n",
       "      <td>Mark Amodei (Representative from Nevada)</td>\n",
       "      <td>r</td>\n",
       "    </tr>\n",
       "  </tbody>\n",
       "</table>\n",
       "</div>"
      ],
      "text/plain": [
       "      First       Last                                    congressman  \\\n",
       "0  Gregorio     Sablan       Gregorio Sablan (Representative from NA)   \n",
       "1    Robert   Aderholt  Robert Aderholt (Representative from Alabama)   \n",
       "2     Lamar  Alexander       Lamar Alexander (Senator from Tennessee)   \n",
       "3    Justin      Amash    Justin Amash (Representative from Michigan)   \n",
       "4      Mark     Amodei       Mark Amodei (Representative from Nevada)   \n",
       "\n",
       "  affiliation  \n",
       "0           d  \n",
       "1           r  \n",
       "2           r  \n",
       "3           r  \n",
       "4           r  "
      ]
     },
     "execution_count": 14,
     "metadata": {},
     "output_type": "execute_result"
    }
   ],
   "source": [
    "congressmen_df = pd.read_csv('congressmen_2015.csv')\n",
    "congressmen_df.head()"
   ]
  },
  {
   "cell_type": "code",
   "execution_count": 15,
   "metadata": {},
   "outputs": [],
   "source": [
    "df = df.merge(congressmen_df, how='left',left_on='label',right_on='congressman')"
   ]
  },
  {
   "cell_type": "code",
   "execution_count": 16,
   "metadata": {},
   "outputs": [],
   "source": [
    "df.loc[df.bias == 'partisan', 'target'] = df['affiliation']\n",
    "df.loc[df.bias == 'neutral', 'target'] = df['bias']"
   ]
  },
  {
   "cell_type": "code",
   "execution_count": 17,
   "metadata": {},
   "outputs": [
    {
     "data": {
      "text/html": [
       "<div>\n",
       "<style scoped>\n",
       "    .dataframe tbody tr th:only-of-type {\n",
       "        vertical-align: middle;\n",
       "    }\n",
       "\n",
       "    .dataframe tbody tr th {\n",
       "        vertical-align: top;\n",
       "    }\n",
       "\n",
       "    .dataframe thead th {\n",
       "        text-align: right;\n",
       "    }\n",
       "</style>\n",
       "<table border=\"1\" class=\"dataframe\">\n",
       "  <thead>\n",
       "    <tr style=\"text-align: right;\">\n",
       "      <th></th>\n",
       "      <th>bias</th>\n",
       "      <th>message</th>\n",
       "      <th>embed</th>\n",
       "      <th>label</th>\n",
       "      <th>source</th>\n",
       "      <th>text</th>\n",
       "      <th>purpose_and_bias</th>\n",
       "      <th>First</th>\n",
       "      <th>Last</th>\n",
       "      <th>congressman</th>\n",
       "      <th>affiliation</th>\n",
       "      <th>target</th>\n",
       "    </tr>\n",
       "  </thead>\n",
       "  <tbody>\n",
       "    <tr>\n",
       "      <th>0</th>\n",
       "      <td>partisan</td>\n",
       "      <td>policy</td>\n",
       "      <td>&lt;blockquote class=\"twitter-tweet\" width=\"450\"&gt;...</td>\n",
       "      <td>Trey Radel (Representative from Florida)</td>\n",
       "      <td>twitter</td>\n",
       "      <td>rt nowthisnews rep trey radel r fl slams obama...</td>\n",
       "      <td>policy_partisan</td>\n",
       "      <td>Trey</td>\n",
       "      <td>Radel</td>\n",
       "      <td>Trey Radel (Representative from Florida)</td>\n",
       "      <td>r</td>\n",
       "      <td>r</td>\n",
       "    </tr>\n",
       "    <tr>\n",
       "      <th>1</th>\n",
       "      <td>partisan</td>\n",
       "      <td>attack</td>\n",
       "      <td>&lt;blockquote class=\"twitter-tweet\" width=\"450\"&gt;...</td>\n",
       "      <td>Mitch McConnell (Senator from Kentucky)</td>\n",
       "      <td>twitter</td>\n",
       "      <td>video  obamacare  full of higher costs and bro...</td>\n",
       "      <td>attack_partisan</td>\n",
       "      <td>Mitch</td>\n",
       "      <td>McConnell</td>\n",
       "      <td>Mitch McConnell (Senator from Kentucky)</td>\n",
       "      <td>r</td>\n",
       "      <td>r</td>\n",
       "    </tr>\n",
       "    <tr>\n",
       "      <th>2</th>\n",
       "      <td>neutral</td>\n",
       "      <td>support</td>\n",
       "      <td>&lt;blockquote class=\"twitter-tweet\" width=\"450\"&gt;...</td>\n",
       "      <td>Kurt Schrader (Representative from Oregon)</td>\n",
       "      <td>twitter</td>\n",
       "      <td>please join me today in remembering our fallen...</td>\n",
       "      <td>support_neutral</td>\n",
       "      <td>Kurt</td>\n",
       "      <td>Schrader</td>\n",
       "      <td>Kurt Schrader (Representative from Oregon)</td>\n",
       "      <td>d</td>\n",
       "      <td>neutral</td>\n",
       "    </tr>\n",
       "    <tr>\n",
       "      <th>3</th>\n",
       "      <td>neutral</td>\n",
       "      <td>policy</td>\n",
       "      <td>&lt;blockquote class=\"twitter-tweet\" width=\"450\"&gt;...</td>\n",
       "      <td>Michael Crapo (Senator from Idaho)</td>\n",
       "      <td>twitter</td>\n",
       "      <td>rt senatorleahy 1st step toward senate debate ...</td>\n",
       "      <td>policy_neutral</td>\n",
       "      <td>Michael</td>\n",
       "      <td>Crapo</td>\n",
       "      <td>Michael Crapo (Senator from Idaho)</td>\n",
       "      <td>r</td>\n",
       "      <td>neutral</td>\n",
       "    </tr>\n",
       "    <tr>\n",
       "      <th>4</th>\n",
       "      <td>partisan</td>\n",
       "      <td>policy</td>\n",
       "      <td>&lt;blockquote class=\"twitter-tweet\" width=\"450\"&gt;...</td>\n",
       "      <td>Mark Udall (Senator from Colorado)</td>\n",
       "      <td>twitter</td>\n",
       "      <td>amazon delivery drones show need to update law...</td>\n",
       "      <td>policy_partisan</td>\n",
       "      <td>Mark</td>\n",
       "      <td>Udall</td>\n",
       "      <td>Mark Udall (Senator from Colorado)</td>\n",
       "      <td>d</td>\n",
       "      <td>d</td>\n",
       "    </tr>\n",
       "  </tbody>\n",
       "</table>\n",
       "</div>"
      ],
      "text/plain": [
       "       bias  message                                              embed  \\\n",
       "0  partisan   policy  <blockquote class=\"twitter-tweet\" width=\"450\">...   \n",
       "1  partisan   attack  <blockquote class=\"twitter-tweet\" width=\"450\">...   \n",
       "2   neutral  support  <blockquote class=\"twitter-tweet\" width=\"450\">...   \n",
       "3   neutral   policy  <blockquote class=\"twitter-tweet\" width=\"450\">...   \n",
       "4  partisan   policy  <blockquote class=\"twitter-tweet\" width=\"450\">...   \n",
       "\n",
       "                                        label   source  \\\n",
       "0    Trey Radel (Representative from Florida)  twitter   \n",
       "1     Mitch McConnell (Senator from Kentucky)  twitter   \n",
       "2  Kurt Schrader (Representative from Oregon)  twitter   \n",
       "3          Michael Crapo (Senator from Idaho)  twitter   \n",
       "4          Mark Udall (Senator from Colorado)  twitter   \n",
       "\n",
       "                                                text purpose_and_bias  \\\n",
       "0  rt nowthisnews rep trey radel r fl slams obama...  policy_partisan   \n",
       "1  video  obamacare  full of higher costs and bro...  attack_partisan   \n",
       "2  please join me today in remembering our fallen...  support_neutral   \n",
       "3  rt senatorleahy 1st step toward senate debate ...   policy_neutral   \n",
       "4  amazon delivery drones show need to update law...  policy_partisan   \n",
       "\n",
       "     First       Last                                 congressman affiliation  \\\n",
       "0     Trey      Radel    Trey Radel (Representative from Florida)           r   \n",
       "1    Mitch  McConnell     Mitch McConnell (Senator from Kentucky)           r   \n",
       "2     Kurt   Schrader  Kurt Schrader (Representative from Oregon)           d   \n",
       "3  Michael      Crapo          Michael Crapo (Senator from Idaho)           r   \n",
       "4     Mark      Udall          Mark Udall (Senator from Colorado)           d   \n",
       "\n",
       "    target  \n",
       "0        r  \n",
       "1        r  \n",
       "2  neutral  \n",
       "3  neutral  \n",
       "4        d  "
      ]
     },
     "execution_count": 17,
     "metadata": {},
     "output_type": "execute_result"
    }
   ],
   "source": [
    "df.head()"
   ]
  },
  {
   "cell_type": "code",
   "execution_count": 18,
   "metadata": {},
   "outputs": [
    {
     "data": {
      "text/plain": [
       "neutral    3689\n",
       "r           791\n",
       "d           490\n",
       "i            17\n",
       "Name: target, dtype: int64"
      ]
     },
     "execution_count": 18,
     "metadata": {},
     "output_type": "execute_result"
    }
   ],
   "source": [
    "df['target'].value_counts()"
   ]
  },
  {
   "cell_type": "code",
   "execution_count": 19,
   "metadata": {
    "scrolled": true
   },
   "outputs": [
    {
     "data": {
      "text/plain": [
       "13"
      ]
     },
     "execution_count": 19,
     "metadata": {},
     "output_type": "execute_result"
    }
   ],
   "source": [
    "len(df[df['target'].isnull()])"
   ]
  },
  {
   "cell_type": "code",
   "execution_count": 20,
   "metadata": {},
   "outputs": [],
   "source": [
    "df.dropna(axis=0,inplace=True)"
   ]
  },
  {
   "cell_type": "code",
   "execution_count": 21,
   "metadata": {},
   "outputs": [
    {
     "name": "stdout",
     "output_type": "stream",
     "text": [
      "<class 'pandas.core.frame.DataFrame'>\n",
      "Int64Index: 4929 entries, 0 to 4999\n",
      "Data columns (total 12 columns):\n",
      "bias                4929 non-null object\n",
      "message             4929 non-null object\n",
      "embed               4929 non-null object\n",
      "label               4929 non-null object\n",
      "source              4929 non-null object\n",
      "text                4929 non-null object\n",
      "purpose_and_bias    4929 non-null object\n",
      "First               4929 non-null object\n",
      "Last                4929 non-null object\n",
      "congressman         4929 non-null object\n",
      "affiliation         4929 non-null object\n",
      "target              4929 non-null object\n",
      "dtypes: object(12)\n",
      "memory usage: 500.6+ KB\n"
     ]
    }
   ],
   "source": [
    "df.info()"
   ]
  },
  {
   "cell_type": "markdown",
   "metadata": {},
   "source": [
    "## Inputs (X): Tweets\n",
    "## Target (Y): Bias"
   ]
  },
  {
   "cell_type": "markdown",
   "metadata": {},
   "source": [
    "# TRANSFER LEARNING"
   ]
  },
  {
   "cell_type": "code",
   "execution_count": 22,
   "metadata": {},
   "outputs": [],
   "source": [
    "#download the model to local so it can be used again and again\n",
    "#!mkdir module\n",
    "#!mkdir module/module_elmo2"
   ]
  },
  {
   "cell_type": "code",
   "execution_count": 23,
   "metadata": {},
   "outputs": [],
   "source": [
    "# Download the module, and uncompress it to the destination folder. \n",
    "#!curl -L \"https://tfhub.dev/google/elmo/2?tf-hub-format=compressed\" | tar -zxvC module/module_elmo2"
   ]
  },
  {
   "cell_type": "markdown",
   "metadata": {},
   "source": [
    "This module exposes 4 trainable scalar weights for layer aggregation. The output dictionary contains :\n",
    "\n",
    "- word_emb: the character-based word representations with shape [batch_size, max_length, 512].\n",
    "- lstm_outputs1: the first LSTM hidden state with shape [batch_size, max_length, 1024].\n",
    "- lstm_outputs2: the second LSTM hidden state with shape [batch_size, max_length, 1024].\n",
    "- elmo: the weighted sum of the 3 layers, where the weights are trainable. This tensor has shape [batch_size, max_length, 1024]\n",
    "- default: a fixed mean-pooling of all contextualized word representations with shape [batch_size, 1024]."
   ]
  },
  {
   "cell_type": "markdown",
   "metadata": {},
   "source": [
    "# Passing Sentence Strings"
   ]
  },
  {
   "cell_type": "code",
   "execution_count": 24,
   "metadata": {},
   "outputs": [
    {
     "name": "stdout",
     "output_type": "stream",
     "text": [
      "WARNING:tensorflow:From /anaconda3/envs/learn-env/lib/python3.6/site-packages/tensorflow/python/ops/control_flow_ops.py:3632: colocate_with (from tensorflow.python.framework.ops) is deprecated and will be removed in a future version.\n",
      "Instructions for updating:\n",
      "Colocations handled automatically by placer.\n"
     ]
    },
    {
     "name": "stderr",
     "output_type": "stream",
     "text": [
      "W0619 20:20:52.301557 4505654720 deprecation.py:323] From /anaconda3/envs/learn-env/lib/python3.6/site-packages/tensorflow/python/ops/control_flow_ops.py:3632: colocate_with (from tensorflow.python.framework.ops) is deprecated and will be removed in a future version.\n",
      "Instructions for updating:\n",
      "Colocations handled automatically by placer.\n"
     ]
    },
    {
     "name": "stdout",
     "output_type": "stream",
     "text": [
      "INFO:tensorflow:Saver not created because there are no variables in the graph to restore\n"
     ]
    },
    {
     "name": "stderr",
     "output_type": "stream",
     "text": [
      "I0619 20:20:53.280848 4505654720 saver.py:1483] Saver not created because there are no variables in the graph to restore\n"
     ]
    }
   ],
   "source": [
    "elmo = hub.Module(\"module/module_elmo2/\", trainable=False)\n",
    "embeddings = elmo(\n",
    "    [\"the cat is on the mat\", \"what are you doing in evening\"],\n",
    "    signature=\"default\",\n",
    "    as_dict=True)[\"elmo\"]\n",
    "\n",
    "with tf.Session() as session:\n",
    "    session.run([tf.global_variables_initializer(), tf.tables_initializer()])\n",
    "    message_embeddings = session.run(embeddings)"
   ]
  },
  {
   "cell_type": "code",
   "execution_count": 25,
   "metadata": {},
   "outputs": [
    {
     "name": "stdout",
     "output_type": "stream",
     "text": [
      "2\n",
      "6\n",
      "1024\n"
     ]
    }
   ],
   "source": [
    "print(len(message_embeddings))\n",
    "print(len(message_embeddings[0]))\n",
    "print(len(message_embeddings[0][0]))"
   ]
  },
  {
   "cell_type": "markdown",
   "metadata": {},
   "source": [
    "# Passing Word Strings (as Tokenized Sentences)"
   ]
  },
  {
   "cell_type": "code",
   "execution_count": 26,
   "metadata": {},
   "outputs": [
    {
     "name": "stdout",
     "output_type": "stream",
     "text": [
      "INFO:tensorflow:Saver not created because there are no variables in the graph to restore\n"
     ]
    },
    {
     "name": "stderr",
     "output_type": "stream",
     "text": [
      "I0619 20:20:58.105333 4505654720 saver.py:1483] Saver not created because there are no variables in the graph to restore\n"
     ]
    }
   ],
   "source": [
    "elmo = hub.Module(\"module/module_elmo2/\", trainable=False)\n",
    "\n",
    "tokens_input = [[\"the\", \"cat\", \"is\", \"on\", \"the\", \"mat\"],\n",
    "[\"what\", \"are\", \"you\", \"doing\", \"in\", \"evening\"]]\n",
    "\n",
    "tokens_length = [6, 5]\n",
    "\n",
    "embeddings = elmo(inputs={\n",
    "    \"tokens\": tokens_input,\n",
    "    \"sequence_len\": tokens_length\n",
    "    },\n",
    "    signature=\"tokens\",\n",
    "    as_dict=True)[\"elmo\"]\n",
    "\n",
    "\n",
    "with tf.Session() as session:\n",
    "    session.run([tf.global_variables_initializer(), tf.tables_initializer()])\n",
    "    message_embeddings = session.run(embeddings)"
   ]
  },
  {
   "cell_type": "code",
   "execution_count": 27,
   "metadata": {},
   "outputs": [
    {
     "name": "stdout",
     "output_type": "stream",
     "text": [
      "2\n",
      "6\n",
      "1024\n"
     ]
    }
   ],
   "source": [
    "print(len(message_embeddings))\n",
    "print(len(message_embeddings[0]))\n",
    "print(len(message_embeddings[0][0]))"
   ]
  },
  {
   "cell_type": "markdown",
   "metadata": {},
   "source": [
    "# If we want to use for multiple inputs"
   ]
  },
  {
   "cell_type": "code",
   "execution_count": 28,
   "metadata": {},
   "outputs": [
    {
     "name": "stdout",
     "output_type": "stream",
     "text": [
      "INFO:tensorflow:Saver not created because there are no variables in the graph to restore\n"
     ]
    },
    {
     "name": "stderr",
     "output_type": "stream",
     "text": [
      "I0619 20:21:02.157072 4505654720 saver.py:1483] Saver not created because there are no variables in the graph to restore\n"
     ]
    },
    {
     "name": "stdout",
     "output_type": "stream",
     "text": [
      "INFO:tensorflow:Graph was finalized.\n"
     ]
    },
    {
     "name": "stderr",
     "output_type": "stream",
     "text": [
      "I0619 20:21:02.529984 4505654720 monitored_session.py:222] Graph was finalized.\n"
     ]
    },
    {
     "name": "stdout",
     "output_type": "stream",
     "text": [
      "INFO:tensorflow:Running local_init_op.\n"
     ]
    },
    {
     "name": "stderr",
     "output_type": "stream",
     "text": [
      "I0619 20:21:03.068873 4505654720 session_manager.py:491] Running local_init_op.\n"
     ]
    },
    {
     "name": "stdout",
     "output_type": "stream",
     "text": [
      "INFO:tensorflow:Done running local_init_op.\n"
     ]
    },
    {
     "name": "stderr",
     "output_type": "stream",
     "text": [
      "I0619 20:21:03.155012 4505654720 session_manager.py:493] Done running local_init_op.\n"
     ]
    }
   ],
   "source": [
    "def embed_elmo2(module):\n",
    "    with tf.Graph().as_default():\n",
    "        sentences = tf.placeholder(tf.string)\n",
    "        embed = hub.Module(module)\n",
    "        embeddings = embed(sentences)\n",
    "        session = tf.train.MonitoredSession()\n",
    "    return lambda x: session.run(embeddings, {sentences: x})\n",
    "\n",
    "embed_fn = embed_elmo2('module/module_elmo2')"
   ]
  },
  {
   "cell_type": "code",
   "execution_count": 29,
   "metadata": {},
   "outputs": [
    {
     "data": {
      "text/plain": [
       "(2, 1024)"
      ]
     },
     "execution_count": 29,
     "metadata": {},
     "output_type": "execute_result"
    }
   ],
   "source": [
    "embed_fn([\"i am sambit\",\"i am alex\"]).shape"
   ]
  },
  {
   "cell_type": "markdown",
   "metadata": {},
   "source": [
    "# ELMO Embedding in a Simple Neural Network Classifier"
   ]
  },
  {
   "cell_type": "code",
   "execution_count": 30,
   "metadata": {},
   "outputs": [],
   "source": [
    "def replace_contraction(text):\n",
    "    contraction_patterns = [ (r'won\\'t', 'will not'), (r'can\\'t', 'can not'), (r'i\\'m', 'i am'), (r'ain\\'t', 'is not'), (r'(\\w+)\\'ll', '\\g<1> will'), (r'(\\w+)n\\'t', '\\g<1> not'),\n",
    "                         (r'(\\w+)\\'ve', '\\g<1> have'), (r'(\\w+)\\'s', '\\g<1> is'), (r'(\\w+)\\'re', '\\g<1> are'), (r'(\\w+)\\'d', '\\g<1> would'), (r'&', 'and'), (r'dammit', 'damn it'), (r'dont', 'do not'), (r'wont', 'will not') ]\n",
    "    patterns = [(re.compile(regex), repl) for (regex, repl) in contraction_patterns]\n",
    "    for (pattern, repl) in patterns:\n",
    "        (text, count) = re.subn(pattern, repl, text)\n",
    "    return text\n",
    "def replace_links(text, filler=' '):\n",
    "        text = re.sub(r'((http|https)\\:\\/\\/)?[a-zA-Z0-9\\.\\/\\?\\:@\\-_=#]+\\.([a-zA-Z]){2,6}([a-zA-Z0-9\\.\\&\\/\\?\\:@\\-_=#])*',\n",
    "                      filler, text).strip()\n",
    "        return text\n",
    "def remove_numbers(text):\n",
    "    text = ''.join([i for i in text if not i.isdigit()])\n",
    "    return text"
   ]
  },
  {
   "cell_type": "code",
   "execution_count": 31,
   "metadata": {},
   "outputs": [],
   "source": [
    "import re\n",
    "def cleanText(text):\n",
    "    text = text.strip().replace(\"\\n\", \" \").replace(\"\\r\", \" \")\n",
    "    text = replace_contraction(text)\n",
    "    text = replace_links(text, \"link\")\n",
    "    text = remove_numbers(text)\n",
    "    text = re.sub(r'[,!@#$%^&*)(|/><\";:.?\\'\\\\}{]',\"\",text)\n",
    "    text = text.lower()\n",
    "    return text"
   ]
  },
  {
   "cell_type": "code",
   "execution_count": 32,
   "metadata": {},
   "outputs": [
    {
     "data": {
      "text/plain": [
       "array(['r', 'r', 'neutral', 'neutral', 'd', 'd', 'neutral', 'neutral',\n",
       "       'neutral', 'd'], dtype=object)"
      ]
     },
     "execution_count": 32,
     "metadata": {},
     "output_type": "execute_result"
    }
   ],
   "source": [
    "X = np.array(df['text'].apply(cleanText))\n",
    "y = np.array(df['target'])\n",
    "y[0:10]"
   ]
  },
  {
   "cell_type": "code",
   "execution_count": 33,
   "metadata": {},
   "outputs": [],
   "source": [
    "le = LabelEncoder()\n",
    "y = le.fit_transform(y)"
   ]
  },
  {
   "cell_type": "code",
   "execution_count": 34,
   "metadata": {},
   "outputs": [
    {
     "data": {
      "text/plain": [
       "array([3, 3, 2, 2, 0, 0, 2, 2, 2, 0])"
      ]
     },
     "execution_count": 34,
     "metadata": {},
     "output_type": "execute_result"
    }
   ],
   "source": [
    "y[0:10]"
   ]
  },
  {
   "cell_type": "code",
   "execution_count": 35,
   "metadata": {},
   "outputs": [],
   "source": [
    "X_train, X_test, y_train, y_test = train_test_split(X,y,random_state=0,test_size=0.20)"
   ]
  },
  {
   "cell_type": "code",
   "execution_count": 36,
   "metadata": {},
   "outputs": [
    {
     "data": {
      "text/plain": [
       "(3943,)"
      ]
     },
     "execution_count": 36,
     "metadata": {},
     "output_type": "execute_result"
    }
   ],
   "source": [
    "y_train.shape"
   ]
  },
  {
   "cell_type": "code",
   "execution_count": 37,
   "metadata": {},
   "outputs": [],
   "source": [
    "embed = hub.Module(\"module/module_elmo2\", trainable=False)\n",
    "def ELMoEmbedding(x):\n",
    "    return embed(tf.squeeze(tf.cast(x, tf.string)), signature=\"default\", as_dict=True)[\"default\"]"
   ]
  },
  {
   "cell_type": "code",
   "execution_count": 38,
   "metadata": {},
   "outputs": [],
   "source": [
    "# def build_model(): \n",
    "#     input_text = Input(shape=(1,), dtype=\"string\")\n",
    "#     embedding = Lambda(ELMoEmbedding, output_shape=(1024, ))(input_text)\n",
    "#     dense = Dense(256, activation='relu', kernel_regularizer=keras.regularizers.l2(0.001))(embedding)\n",
    "#     pred = Dense(4, activation='softmax')(dense)\n",
    "#     model = Model(inputs=[input_text], outputs=pred)\n",
    "#     model.compile(loss='categorical_crossentropy', optimizer='rmsprop', metrics=['accuracy'])\n",
    "#     return model"
   ]
  },
  {
   "cell_type": "code",
   "execution_count": 39,
   "metadata": {},
   "outputs": [
    {
     "name": "stdout",
     "output_type": "stream",
     "text": [
      "INFO:tensorflow:Saver not created because there are no variables in the graph to restore\n"
     ]
    },
    {
     "name": "stderr",
     "output_type": "stream",
     "text": [
      "I0619 20:21:07.113894 4505654720 saver.py:1483] Saver not created because there are no variables in the graph to restore\n"
     ]
    }
   ],
   "source": [
    "from keras.engine.input_layer import InputLayer\n",
    "from keras.models import Sequential\n",
    "from keras.callbacks import EarlyStopping\n",
    "\n",
    "model = Sequential()\n",
    "model.add(InputLayer(input_shape=(1,), dtype=\"string\"))\n",
    "model.add(Lambda(ELMoEmbedding, output_shape=(1024, ))) #\n",
    "model.add(Dense(256, activation='relu', kernel_regularizer=keras.regularizers.l2(0.01)))\n",
    "model.add(Dense(50, activation='relu', kernel_regularizer=keras.regularizers.l2(0.01)))\n",
    "model.add(Dense(4, activation='softmax'))"
   ]
  },
  {
   "cell_type": "code",
   "execution_count": 40,
   "metadata": {},
   "outputs": [],
   "source": [
    "model.compile(loss='sparse_categorical_crossentropy', \n",
    "              optimizer='adam', \n",
    "              metrics=['accuracy'],)\n",
    "early_stop = EarlyStopping(monitor='val_loss', min_delta=1e-05, patience=0,verbose=1, mode='auto')\n",
    "\n",
    "callbacks_list = [early_stop]"
   ]
  },
  {
   "cell_type": "code",
   "execution_count": null,
   "metadata": {},
   "outputs": [],
   "source": [
    "with tf.Session() as session:\n",
    "    K.set_session(session)\n",
    "    session.run(tf.global_variables_initializer())  \n",
    "    session.run(tf.tables_initializer())\n",
    "    history = model.fit(X_train, y_train, \n",
    "                        epochs=5, \n",
    "                        batch_size=50, \n",
    "                        validation_data = (X_test, y_test),\n",
    "                        verbose=2,\n",
    "                        callbacks=callbacks_list)\n",
    "    model.save_weights('./model_elmo_weights.h5')\n"
   ]
  },
  {
   "cell_type": "code",
   "execution_count": null,
   "metadata": {},
   "outputs": [],
   "source": [
    "model.summary()"
   ]
  },
  {
   "cell_type": "code",
   "execution_count": null,
   "metadata": {},
   "outputs": [],
   "source": [
    "import matplotlib.pyplot as plt\n",
    "%matplotlib inline\n",
    "\n",
    "acc = history.history['acc']\n",
    "val_acc = history.history['val_acc']\n",
    "loss = history.history['loss']\n",
    "val_loss = history.history['val_loss']\n",
    "\n",
    "epochs = range(1, len(acc) + 1)\n",
    "\n",
    "plt.plot(epochs, loss, 'g', label='Training Loss')\n",
    "plt.plot(epochs, val_loss, 'b', label='Teest Loss')\n",
    "plt.title('Training and Test Loss')\n",
    "plt.xlabel('Epochs')\n",
    "plt.ylabel('Spare Cross Entropy Loss')\n",
    "plt.legend()\n",
    "\n",
    "plt.show()"
   ]
  }
 ],
 "metadata": {
  "kernelspec": {
   "display_name": "learn-env",
   "language": "python",
   "name": "learn-env"
  },
  "language_info": {
   "codemirror_mode": {
    "name": "ipython",
    "version": 3
   },
   "file_extension": ".py",
   "mimetype": "text/x-python",
   "name": "python",
   "nbconvert_exporter": "python",
   "pygments_lexer": "ipython3",
   "version": "3.6.6"
  }
 },
 "nbformat": 4,
 "nbformat_minor": 2
}
