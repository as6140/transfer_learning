{
 "cells": [
  {
   "cell_type": "markdown",
   "metadata": {},
   "source": [
    "# Imports & Data Loading"
   ]
  },
  {
   "cell_type": "code",
   "execution_count": 62,
   "metadata": {
    "scrolled": false
   },
   "outputs": [],
   "source": [
    "import pandas as pd\n",
    "import matplotlib.pyplot as plt\n",
    "import string\n",
    "from sklearn.model_selection import train_test_split\n",
    "import numpy as np\n",
    "import tensorflow as tf\n",
    "import tensorflow_hub as hub\n",
    "\n",
    "import tensorflow.keras as keras \n",
    "from keras.layers import Input, Lambda, Dense\n",
    "from keras.models import Model\n",
    "import keras.backend as K"
   ]
  },
  {
   "cell_type": "code",
   "execution_count": 2,
   "metadata": {},
   "outputs": [
    {
     "data": {
      "text/html": [
       "<div>\n",
       "<style scoped>\n",
       "    .dataframe tbody tr th:only-of-type {\n",
       "        vertical-align: middle;\n",
       "    }\n",
       "\n",
       "    .dataframe tbody tr th {\n",
       "        vertical-align: top;\n",
       "    }\n",
       "\n",
       "    .dataframe thead th {\n",
       "        text-align: right;\n",
       "    }\n",
       "</style>\n",
       "<table border=\"1\" class=\"dataframe\">\n",
       "  <thead>\n",
       "    <tr style=\"text-align: right;\">\n",
       "      <th></th>\n",
       "      <th>0</th>\n",
       "      <th>1</th>\n",
       "      <th>2</th>\n",
       "      <th>3</th>\n",
       "      <th>4</th>\n",
       "    </tr>\n",
       "  </thead>\n",
       "  <tbody>\n",
       "    <tr>\n",
       "      <th>_unit_id</th>\n",
       "      <td>766192484</td>\n",
       "      <td>766192485</td>\n",
       "      <td>766192486</td>\n",
       "      <td>766192487</td>\n",
       "      <td>766192488</td>\n",
       "    </tr>\n",
       "    <tr>\n",
       "      <th>_golden</th>\n",
       "      <td>False</td>\n",
       "      <td>False</td>\n",
       "      <td>False</td>\n",
       "      <td>False</td>\n",
       "      <td>False</td>\n",
       "    </tr>\n",
       "    <tr>\n",
       "      <th>_unit_state</th>\n",
       "      <td>finalized</td>\n",
       "      <td>finalized</td>\n",
       "      <td>finalized</td>\n",
       "      <td>finalized</td>\n",
       "      <td>finalized</td>\n",
       "    </tr>\n",
       "    <tr>\n",
       "      <th>_trusted_judgments</th>\n",
       "      <td>1</td>\n",
       "      <td>1</td>\n",
       "      <td>1</td>\n",
       "      <td>1</td>\n",
       "      <td>1</td>\n",
       "    </tr>\n",
       "    <tr>\n",
       "      <th>_last_judgment_at</th>\n",
       "      <td>8/4/15 21:17</td>\n",
       "      <td>8/4/15 21:20</td>\n",
       "      <td>8/4/15 21:14</td>\n",
       "      <td>8/4/15 21:08</td>\n",
       "      <td>8/4/15 21:26</td>\n",
       "    </tr>\n",
       "    <tr>\n",
       "      <th>audience</th>\n",
       "      <td>national</td>\n",
       "      <td>national</td>\n",
       "      <td>national</td>\n",
       "      <td>national</td>\n",
       "      <td>national</td>\n",
       "    </tr>\n",
       "    <tr>\n",
       "      <th>audience:confidence</th>\n",
       "      <td>1</td>\n",
       "      <td>1</td>\n",
       "      <td>1</td>\n",
       "      <td>1</td>\n",
       "      <td>1</td>\n",
       "    </tr>\n",
       "    <tr>\n",
       "      <th>bias</th>\n",
       "      <td>partisan</td>\n",
       "      <td>partisan</td>\n",
       "      <td>neutral</td>\n",
       "      <td>neutral</td>\n",
       "      <td>partisan</td>\n",
       "    </tr>\n",
       "    <tr>\n",
       "      <th>bias:confidence</th>\n",
       "      <td>1</td>\n",
       "      <td>1</td>\n",
       "      <td>1</td>\n",
       "      <td>1</td>\n",
       "      <td>1</td>\n",
       "    </tr>\n",
       "    <tr>\n",
       "      <th>message</th>\n",
       "      <td>policy</td>\n",
       "      <td>attack</td>\n",
       "      <td>support</td>\n",
       "      <td>policy</td>\n",
       "      <td>policy</td>\n",
       "    </tr>\n",
       "    <tr>\n",
       "      <th>message:confidence</th>\n",
       "      <td>1</td>\n",
       "      <td>1</td>\n",
       "      <td>1</td>\n",
       "      <td>1</td>\n",
       "      <td>1</td>\n",
       "    </tr>\n",
       "    <tr>\n",
       "      <th>orig__golden</th>\n",
       "      <td>NaN</td>\n",
       "      <td>NaN</td>\n",
       "      <td>NaN</td>\n",
       "      <td>NaN</td>\n",
       "      <td>NaN</td>\n",
       "    </tr>\n",
       "    <tr>\n",
       "      <th>audience_gold</th>\n",
       "      <td>NaN</td>\n",
       "      <td>NaN</td>\n",
       "      <td>NaN</td>\n",
       "      <td>NaN</td>\n",
       "      <td>NaN</td>\n",
       "    </tr>\n",
       "    <tr>\n",
       "      <th>bias_gold</th>\n",
       "      <td>NaN</td>\n",
       "      <td>NaN</td>\n",
       "      <td>NaN</td>\n",
       "      <td>NaN</td>\n",
       "      <td>NaN</td>\n",
       "    </tr>\n",
       "    <tr>\n",
       "      <th>bioid</th>\n",
       "      <td>R000596</td>\n",
       "      <td>M000355</td>\n",
       "      <td>S001180</td>\n",
       "      <td>C000880</td>\n",
       "      <td>U000038</td>\n",
       "    </tr>\n",
       "    <tr>\n",
       "      <th>embed</th>\n",
       "      <td>&lt;blockquote class=\"twitter-tweet\" width=\"450\"&gt;...</td>\n",
       "      <td>&lt;blockquote class=\"twitter-tweet\" width=\"450\"&gt;...</td>\n",
       "      <td>&lt;blockquote class=\"twitter-tweet\" width=\"450\"&gt;...</td>\n",
       "      <td>&lt;blockquote class=\"twitter-tweet\" width=\"450\"&gt;...</td>\n",
       "      <td>&lt;blockquote class=\"twitter-tweet\" width=\"450\"&gt;...</td>\n",
       "    </tr>\n",
       "    <tr>\n",
       "      <th>id</th>\n",
       "      <td>3.83249E+17</td>\n",
       "      <td>3.11208E+17</td>\n",
       "      <td>3.39069E+17</td>\n",
       "      <td>2.98528E+17</td>\n",
       "      <td>4.07643E+17</td>\n",
       "    </tr>\n",
       "    <tr>\n",
       "      <th>label</th>\n",
       "      <td>From: Trey Radel (Representative from Florida)</td>\n",
       "      <td>From: Mitch McConnell (Senator from Kentucky)</td>\n",
       "      <td>From: Kurt Schrader (Representative from Oregon)</td>\n",
       "      <td>From: Michael Crapo (Senator from Idaho)</td>\n",
       "      <td>From: Mark Udall (Senator from Colorado)</td>\n",
       "    </tr>\n",
       "    <tr>\n",
       "      <th>message_gold</th>\n",
       "      <td>NaN</td>\n",
       "      <td>NaN</td>\n",
       "      <td>NaN</td>\n",
       "      <td>NaN</td>\n",
       "      <td>NaN</td>\n",
       "    </tr>\n",
       "    <tr>\n",
       "      <th>source</th>\n",
       "      <td>twitter</td>\n",
       "      <td>twitter</td>\n",
       "      <td>twitter</td>\n",
       "      <td>twitter</td>\n",
       "      <td>twitter</td>\n",
       "    </tr>\n",
       "    <tr>\n",
       "      <th>text</th>\n",
       "      <td>RT @nowthisnews: Rep. Trey Radel (R- #FL) slam...</td>\n",
       "      <td>VIDEO - #Obamacare:  Full of Higher Costs and ...</td>\n",
       "      <td>Please join me today in remembering our fallen...</td>\n",
       "      <td>RT @SenatorLeahy: 1st step toward Senate debat...</td>\n",
       "      <td>.@amazon delivery #drones show need to update ...</td>\n",
       "    </tr>\n",
       "  </tbody>\n",
       "</table>\n",
       "</div>"
      ],
      "text/plain": [
       "                                                                     0  \\\n",
       "_unit_id                                                     766192484   \n",
       "_golden                                                          False   \n",
       "_unit_state                                                  finalized   \n",
       "_trusted_judgments                                                   1   \n",
       "_last_judgment_at                                         8/4/15 21:17   \n",
       "audience                                                      national   \n",
       "audience:confidence                                                  1   \n",
       "bias                                                          partisan   \n",
       "bias:confidence                                                      1   \n",
       "message                                                         policy   \n",
       "message:confidence                                                   1   \n",
       "orig__golden                                                       NaN   \n",
       "audience_gold                                                      NaN   \n",
       "bias_gold                                                          NaN   \n",
       "bioid                                                          R000596   \n",
       "embed                <blockquote class=\"twitter-tweet\" width=\"450\">...   \n",
       "id                                                         3.83249E+17   \n",
       "label                   From: Trey Radel (Representative from Florida)   \n",
       "message_gold                                                       NaN   \n",
       "source                                                         twitter   \n",
       "text                 RT @nowthisnews: Rep. Trey Radel (R- #FL) slam...   \n",
       "\n",
       "                                                                     1  \\\n",
       "_unit_id                                                     766192485   \n",
       "_golden                                                          False   \n",
       "_unit_state                                                  finalized   \n",
       "_trusted_judgments                                                   1   \n",
       "_last_judgment_at                                         8/4/15 21:20   \n",
       "audience                                                      national   \n",
       "audience:confidence                                                  1   \n",
       "bias                                                          partisan   \n",
       "bias:confidence                                                      1   \n",
       "message                                                         attack   \n",
       "message:confidence                                                   1   \n",
       "orig__golden                                                       NaN   \n",
       "audience_gold                                                      NaN   \n",
       "bias_gold                                                          NaN   \n",
       "bioid                                                          M000355   \n",
       "embed                <blockquote class=\"twitter-tweet\" width=\"450\">...   \n",
       "id                                                         3.11208E+17   \n",
       "label                    From: Mitch McConnell (Senator from Kentucky)   \n",
       "message_gold                                                       NaN   \n",
       "source                                                         twitter   \n",
       "text                 VIDEO - #Obamacare:  Full of Higher Costs and ...   \n",
       "\n",
       "                                                                     2  \\\n",
       "_unit_id                                                     766192486   \n",
       "_golden                                                          False   \n",
       "_unit_state                                                  finalized   \n",
       "_trusted_judgments                                                   1   \n",
       "_last_judgment_at                                         8/4/15 21:14   \n",
       "audience                                                      national   \n",
       "audience:confidence                                                  1   \n",
       "bias                                                           neutral   \n",
       "bias:confidence                                                      1   \n",
       "message                                                        support   \n",
       "message:confidence                                                   1   \n",
       "orig__golden                                                       NaN   \n",
       "audience_gold                                                      NaN   \n",
       "bias_gold                                                          NaN   \n",
       "bioid                                                          S001180   \n",
       "embed                <blockquote class=\"twitter-tweet\" width=\"450\">...   \n",
       "id                                                         3.39069E+17   \n",
       "label                 From: Kurt Schrader (Representative from Oregon)   \n",
       "message_gold                                                       NaN   \n",
       "source                                                         twitter   \n",
       "text                 Please join me today in remembering our fallen...   \n",
       "\n",
       "                                                                     3  \\\n",
       "_unit_id                                                     766192487   \n",
       "_golden                                                          False   \n",
       "_unit_state                                                  finalized   \n",
       "_trusted_judgments                                                   1   \n",
       "_last_judgment_at                                         8/4/15 21:08   \n",
       "audience                                                      national   \n",
       "audience:confidence                                                  1   \n",
       "bias                                                           neutral   \n",
       "bias:confidence                                                      1   \n",
       "message                                                         policy   \n",
       "message:confidence                                                   1   \n",
       "orig__golden                                                       NaN   \n",
       "audience_gold                                                      NaN   \n",
       "bias_gold                                                          NaN   \n",
       "bioid                                                          C000880   \n",
       "embed                <blockquote class=\"twitter-tweet\" width=\"450\">...   \n",
       "id                                                         2.98528E+17   \n",
       "label                         From: Michael Crapo (Senator from Idaho)   \n",
       "message_gold                                                       NaN   \n",
       "source                                                         twitter   \n",
       "text                 RT @SenatorLeahy: 1st step toward Senate debat...   \n",
       "\n",
       "                                                                     4  \n",
       "_unit_id                                                     766192488  \n",
       "_golden                                                          False  \n",
       "_unit_state                                                  finalized  \n",
       "_trusted_judgments                                                   1  \n",
       "_last_judgment_at                                         8/4/15 21:26  \n",
       "audience                                                      national  \n",
       "audience:confidence                                                  1  \n",
       "bias                                                          partisan  \n",
       "bias:confidence                                                      1  \n",
       "message                                                         policy  \n",
       "message:confidence                                                   1  \n",
       "orig__golden                                                       NaN  \n",
       "audience_gold                                                      NaN  \n",
       "bias_gold                                                          NaN  \n",
       "bioid                                                          U000038  \n",
       "embed                <blockquote class=\"twitter-tweet\" width=\"450\">...  \n",
       "id                                                         4.07643E+17  \n",
       "label                         From: Mark Udall (Senator from Colorado)  \n",
       "message_gold                                                       NaN  \n",
       "source                                                         twitter  \n",
       "text                 .@amazon delivery #drones show need to update ...  "
      ]
     },
     "execution_count": 2,
     "metadata": {},
     "output_type": "execute_result"
    }
   ],
   "source": [
    "raw_df = pd.read_csv('data/Political-media-DFE.csv',encoding='latin')\n",
    "raw_df.head().T"
   ]
  },
  {
   "cell_type": "markdown",
   "metadata": {},
   "source": [
    "# Data Cleaning & Initial EDA"
   ]
  },
  {
   "cell_type": "code",
   "execution_count": 3,
   "metadata": {},
   "outputs": [
    {
     "data": {
      "text/html": [
       "<div>\n",
       "<style scoped>\n",
       "    .dataframe tbody tr th:only-of-type {\n",
       "        vertical-align: middle;\n",
       "    }\n",
       "\n",
       "    .dataframe tbody tr th {\n",
       "        vertical-align: top;\n",
       "    }\n",
       "\n",
       "    .dataframe thead th {\n",
       "        text-align: right;\n",
       "    }\n",
       "</style>\n",
       "<table border=\"1\" class=\"dataframe\">\n",
       "  <thead>\n",
       "    <tr style=\"text-align: right;\">\n",
       "      <th></th>\n",
       "      <th>0</th>\n",
       "      <th>1</th>\n",
       "      <th>2</th>\n",
       "      <th>3</th>\n",
       "      <th>4</th>\n",
       "    </tr>\n",
       "  </thead>\n",
       "  <tbody>\n",
       "    <tr>\n",
       "      <th>bias</th>\n",
       "      <td>partisan</td>\n",
       "      <td>partisan</td>\n",
       "      <td>neutral</td>\n",
       "      <td>neutral</td>\n",
       "      <td>partisan</td>\n",
       "    </tr>\n",
       "    <tr>\n",
       "      <th>message</th>\n",
       "      <td>policy</td>\n",
       "      <td>attack</td>\n",
       "      <td>support</td>\n",
       "      <td>policy</td>\n",
       "      <td>policy</td>\n",
       "    </tr>\n",
       "    <tr>\n",
       "      <th>embed</th>\n",
       "      <td>&lt;blockquote class=\"twitter-tweet\" width=\"450\"&gt;...</td>\n",
       "      <td>&lt;blockquote class=\"twitter-tweet\" width=\"450\"&gt;...</td>\n",
       "      <td>&lt;blockquote class=\"twitter-tweet\" width=\"450\"&gt;...</td>\n",
       "      <td>&lt;blockquote class=\"twitter-tweet\" width=\"450\"&gt;...</td>\n",
       "      <td>&lt;blockquote class=\"twitter-tweet\" width=\"450\"&gt;...</td>\n",
       "    </tr>\n",
       "    <tr>\n",
       "      <th>label</th>\n",
       "      <td>From: Trey Radel (Representative from Florida)</td>\n",
       "      <td>From: Mitch McConnell (Senator from Kentucky)</td>\n",
       "      <td>From: Kurt Schrader (Representative from Oregon)</td>\n",
       "      <td>From: Michael Crapo (Senator from Idaho)</td>\n",
       "      <td>From: Mark Udall (Senator from Colorado)</td>\n",
       "    </tr>\n",
       "    <tr>\n",
       "      <th>source</th>\n",
       "      <td>twitter</td>\n",
       "      <td>twitter</td>\n",
       "      <td>twitter</td>\n",
       "      <td>twitter</td>\n",
       "      <td>twitter</td>\n",
       "    </tr>\n",
       "    <tr>\n",
       "      <th>text</th>\n",
       "      <td>RT @nowthisnews: Rep. Trey Radel (R- #FL) slam...</td>\n",
       "      <td>VIDEO - #Obamacare:  Full of Higher Costs and ...</td>\n",
       "      <td>Please join me today in remembering our fallen...</td>\n",
       "      <td>RT @SenatorLeahy: 1st step toward Senate debat...</td>\n",
       "      <td>.@amazon delivery #drones show need to update ...</td>\n",
       "    </tr>\n",
       "  </tbody>\n",
       "</table>\n",
       "</div>"
      ],
      "text/plain": [
       "                                                         0  \\\n",
       "bias                                              partisan   \n",
       "message                                             policy   \n",
       "embed    <blockquote class=\"twitter-tweet\" width=\"450\">...   \n",
       "label       From: Trey Radel (Representative from Florida)   \n",
       "source                                             twitter   \n",
       "text     RT @nowthisnews: Rep. Trey Radel (R- #FL) slam...   \n",
       "\n",
       "                                                         1  \\\n",
       "bias                                              partisan   \n",
       "message                                             attack   \n",
       "embed    <blockquote class=\"twitter-tweet\" width=\"450\">...   \n",
       "label        From: Mitch McConnell (Senator from Kentucky)   \n",
       "source                                             twitter   \n",
       "text     VIDEO - #Obamacare:  Full of Higher Costs and ...   \n",
       "\n",
       "                                                         2  \\\n",
       "bias                                               neutral   \n",
       "message                                            support   \n",
       "embed    <blockquote class=\"twitter-tweet\" width=\"450\">...   \n",
       "label     From: Kurt Schrader (Representative from Oregon)   \n",
       "source                                             twitter   \n",
       "text     Please join me today in remembering our fallen...   \n",
       "\n",
       "                                                         3  \\\n",
       "bias                                               neutral   \n",
       "message                                             policy   \n",
       "embed    <blockquote class=\"twitter-tweet\" width=\"450\">...   \n",
       "label             From: Michael Crapo (Senator from Idaho)   \n",
       "source                                             twitter   \n",
       "text     RT @SenatorLeahy: 1st step toward Senate debat...   \n",
       "\n",
       "                                                         4  \n",
       "bias                                              partisan  \n",
       "message                                             policy  \n",
       "embed    <blockquote class=\"twitter-tweet\" width=\"450\">...  \n",
       "label             From: Mark Udall (Senator from Colorado)  \n",
       "source                                             twitter  \n",
       "text     .@amazon delivery #drones show need to update ...  "
      ]
     },
     "execution_count": 3,
     "metadata": {},
     "output_type": "execute_result"
    }
   ],
   "source": [
    "df = raw_df[['bias','message','embed','label','source','text']]\n",
    "df.head().T"
   ]
  },
  {
   "cell_type": "code",
   "execution_count": 4,
   "metadata": {},
   "outputs": [
    {
     "data": {
      "text/plain": [
       "neutral     3689\n",
       "partisan    1311\n",
       "Name: bias, dtype: int64"
      ]
     },
     "execution_count": 4,
     "metadata": {},
     "output_type": "execute_result"
    }
   ],
   "source": [
    "df['bias'].value_counts()"
   ]
  },
  {
   "cell_type": "code",
   "execution_count": 5,
   "metadata": {},
   "outputs": [
    {
     "data": {
      "text/plain": [
       "policy          1411\n",
       "personal        1170\n",
       "support          921\n",
       "information      647\n",
       "media            277\n",
       "attack           172\n",
       "constituency     152\n",
       "mobilization     129\n",
       "other            121\n",
       "Name: message, dtype: int64"
      ]
     },
     "execution_count": 5,
     "metadata": {},
     "output_type": "execute_result"
    }
   ],
   "source": [
    "df['message'].value_counts()"
   ]
  },
  {
   "cell_type": "code",
   "execution_count": 6,
   "metadata": {},
   "outputs": [],
   "source": [
    "#congressmen_2015 = pd.DataFrame(df['label'].unique())"
   ]
  },
  {
   "cell_type": "code",
   "execution_count": 7,
   "metadata": {},
   "outputs": [],
   "source": [
    "#type(congressmen_2015)"
   ]
  },
  {
   "cell_type": "code",
   "execution_count": 8,
   "metadata": {},
   "outputs": [],
   "source": [
    "#congressmen_2015.to_csv('congressmen_2015.csv')"
   ]
  },
  {
   "cell_type": "code",
   "execution_count": 9,
   "metadata": {},
   "outputs": [],
   "source": [
    "def remove_punctuations(text):\n",
    "    '''Removes punctuation from strings'''\n",
    "    for punctuation in string.punctuation:\n",
    "        text = text.replace(punctuation, '')\n",
    "    return text"
   ]
  },
  {
   "cell_type": "code",
   "execution_count": 10,
   "metadata": {},
   "outputs": [
    {
     "name": "stderr",
     "output_type": "stream",
     "text": [
      "/anaconda3/envs/learn-env/lib/python3.6/site-packages/ipykernel_launcher.py:1: SettingWithCopyWarning: \n",
      "A value is trying to be set on a copy of a slice from a DataFrame.\n",
      "Try using .loc[row_indexer,col_indexer] = value instead\n",
      "\n",
      "See the caveats in the documentation: http://pandas.pydata.org/pandas-docs/stable/indexing.html#indexing-view-versus-copy\n",
      "  \"\"\"Entry point for launching an IPython kernel.\n",
      "/anaconda3/envs/learn-env/lib/python3.6/site-packages/ipykernel_launcher.py:2: SettingWithCopyWarning: \n",
      "A value is trying to be set on a copy of a slice from a DataFrame.\n",
      "Try using .loc[row_indexer,col_indexer] = value instead\n",
      "\n",
      "See the caveats in the documentation: http://pandas.pydata.org/pandas-docs/stable/indexing.html#indexing-view-versus-copy\n",
      "  \n",
      "/anaconda3/envs/learn-env/lib/python3.6/site-packages/ipykernel_launcher.py:3: SettingWithCopyWarning: \n",
      "A value is trying to be set on a copy of a slice from a DataFrame.\n",
      "Try using .loc[row_indexer,col_indexer] = value instead\n",
      "\n",
      "See the caveats in the documentation: http://pandas.pydata.org/pandas-docs/stable/indexing.html#indexing-view-versus-copy\n",
      "  This is separate from the ipykernel package so we can avoid doing imports until\n",
      "/anaconda3/envs/learn-env/lib/python3.6/site-packages/ipykernel_launcher.py:4: SettingWithCopyWarning: \n",
      "A value is trying to be set on a copy of a slice from a DataFrame.\n",
      "Try using .loc[row_indexer,col_indexer] = value instead\n",
      "\n",
      "See the caveats in the documentation: http://pandas.pydata.org/pandas-docs/stable/indexing.html#indexing-view-versus-copy\n",
      "  after removing the cwd from sys.path.\n"
     ]
    }
   ],
   "source": [
    "df['text'] = df.loc[:,'text'].apply(remove_punctuations)\n",
    "df['label'] = df['label'].str.replace('From: ','')\n",
    "df['purpose_and_bias'] = df['message'] + '_' + df['bias']\n",
    "df['text'] = df['text'].str.lower()"
   ]
  },
  {
   "cell_type": "code",
   "execution_count": 11,
   "metadata": {},
   "outputs": [
    {
     "data": {
      "text/html": [
       "<div>\n",
       "<style scoped>\n",
       "    .dataframe tbody tr th:only-of-type {\n",
       "        vertical-align: middle;\n",
       "    }\n",
       "\n",
       "    .dataframe tbody tr th {\n",
       "        vertical-align: top;\n",
       "    }\n",
       "\n",
       "    .dataframe thead th {\n",
       "        text-align: right;\n",
       "    }\n",
       "</style>\n",
       "<table border=\"1\" class=\"dataframe\">\n",
       "  <thead>\n",
       "    <tr style=\"text-align: right;\">\n",
       "      <th></th>\n",
       "      <th>bias</th>\n",
       "      <th>message</th>\n",
       "      <th>embed</th>\n",
       "      <th>label</th>\n",
       "      <th>source</th>\n",
       "      <th>text</th>\n",
       "      <th>purpose_and_bias</th>\n",
       "    </tr>\n",
       "  </thead>\n",
       "  <tbody>\n",
       "    <tr>\n",
       "      <th>0</th>\n",
       "      <td>partisan</td>\n",
       "      <td>policy</td>\n",
       "      <td>&lt;blockquote class=\"twitter-tweet\" width=\"450\"&gt;...</td>\n",
       "      <td>Trey Radel (Representative from Florida)</td>\n",
       "      <td>twitter</td>\n",
       "      <td>rt nowthisnews rep trey radel r fl slams obama...</td>\n",
       "      <td>policy_partisan</td>\n",
       "    </tr>\n",
       "    <tr>\n",
       "      <th>1</th>\n",
       "      <td>partisan</td>\n",
       "      <td>attack</td>\n",
       "      <td>&lt;blockquote class=\"twitter-tweet\" width=\"450\"&gt;...</td>\n",
       "      <td>Mitch McConnell (Senator from Kentucky)</td>\n",
       "      <td>twitter</td>\n",
       "      <td>video  obamacare  full of higher costs and bro...</td>\n",
       "      <td>attack_partisan</td>\n",
       "    </tr>\n",
       "    <tr>\n",
       "      <th>2</th>\n",
       "      <td>neutral</td>\n",
       "      <td>support</td>\n",
       "      <td>&lt;blockquote class=\"twitter-tweet\" width=\"450\"&gt;...</td>\n",
       "      <td>Kurt Schrader (Representative from Oregon)</td>\n",
       "      <td>twitter</td>\n",
       "      <td>please join me today in remembering our fallen...</td>\n",
       "      <td>support_neutral</td>\n",
       "    </tr>\n",
       "    <tr>\n",
       "      <th>3</th>\n",
       "      <td>neutral</td>\n",
       "      <td>policy</td>\n",
       "      <td>&lt;blockquote class=\"twitter-tweet\" width=\"450\"&gt;...</td>\n",
       "      <td>Michael Crapo (Senator from Idaho)</td>\n",
       "      <td>twitter</td>\n",
       "      <td>rt senatorleahy 1st step toward senate debate ...</td>\n",
       "      <td>policy_neutral</td>\n",
       "    </tr>\n",
       "    <tr>\n",
       "      <th>4</th>\n",
       "      <td>partisan</td>\n",
       "      <td>policy</td>\n",
       "      <td>&lt;blockquote class=\"twitter-tweet\" width=\"450\"&gt;...</td>\n",
       "      <td>Mark Udall (Senator from Colorado)</td>\n",
       "      <td>twitter</td>\n",
       "      <td>amazon delivery drones show need to update law...</td>\n",
       "      <td>policy_partisan</td>\n",
       "    </tr>\n",
       "  </tbody>\n",
       "</table>\n",
       "</div>"
      ],
      "text/plain": [
       "       bias  message                                              embed  \\\n",
       "0  partisan   policy  <blockquote class=\"twitter-tweet\" width=\"450\">...   \n",
       "1  partisan   attack  <blockquote class=\"twitter-tweet\" width=\"450\">...   \n",
       "2   neutral  support  <blockquote class=\"twitter-tweet\" width=\"450\">...   \n",
       "3   neutral   policy  <blockquote class=\"twitter-tweet\" width=\"450\">...   \n",
       "4  partisan   policy  <blockquote class=\"twitter-tweet\" width=\"450\">...   \n",
       "\n",
       "                                        label   source  \\\n",
       "0    Trey Radel (Representative from Florida)  twitter   \n",
       "1     Mitch McConnell (Senator from Kentucky)  twitter   \n",
       "2  Kurt Schrader (Representative from Oregon)  twitter   \n",
       "3          Michael Crapo (Senator from Idaho)  twitter   \n",
       "4          Mark Udall (Senator from Colorado)  twitter   \n",
       "\n",
       "                                                text purpose_and_bias  \n",
       "0  rt nowthisnews rep trey radel r fl slams obama...  policy_partisan  \n",
       "1  video  obamacare  full of higher costs and bro...  attack_partisan  \n",
       "2  please join me today in remembering our fallen...  support_neutral  \n",
       "3  rt senatorleahy 1st step toward senate debate ...   policy_neutral  \n",
       "4  amazon delivery drones show need to update law...  policy_partisan  "
      ]
     },
     "execution_count": 11,
     "metadata": {},
     "output_type": "execute_result"
    }
   ],
   "source": [
    "df.head()"
   ]
  },
  {
   "cell_type": "code",
   "execution_count": 12,
   "metadata": {},
   "outputs": [
    {
     "data": {
      "text/plain": [
       "personal_neutral         1073\n",
       "support_neutral           751\n",
       "policy_partisan           706\n",
       "policy_neutral            705\n",
       "information_neutral       565\n",
       "media_neutral             247\n",
       "support_partisan          170\n",
       "attack_partisan           160\n",
       "constituency_neutral      129\n",
       "other_neutral             117\n",
       "personal_partisan          97\n",
       "mobilization_neutral       90\n",
       "information_partisan       82\n",
       "mobilization_partisan      39\n",
       "media_partisan             30\n",
       "constituency_partisan      23\n",
       "attack_neutral             12\n",
       "other_partisan              4\n",
       "Name: purpose_and_bias, dtype: int64"
      ]
     },
     "execution_count": 12,
     "metadata": {},
     "output_type": "execute_result"
    }
   ],
   "source": [
    "df['purpose_and_bias'].value_counts()"
   ]
  },
  {
   "cell_type": "code",
   "execution_count": 14,
   "metadata": {},
   "outputs": [
    {
     "data": {
      "text/html": [
       "<div>\n",
       "<style scoped>\n",
       "    .dataframe tbody tr th:only-of-type {\n",
       "        vertical-align: middle;\n",
       "    }\n",
       "\n",
       "    .dataframe tbody tr th {\n",
       "        vertical-align: top;\n",
       "    }\n",
       "\n",
       "    .dataframe thead th {\n",
       "        text-align: right;\n",
       "    }\n",
       "</style>\n",
       "<table border=\"1\" class=\"dataframe\">\n",
       "  <thead>\n",
       "    <tr style=\"text-align: right;\">\n",
       "      <th></th>\n",
       "      <th>First</th>\n",
       "      <th>Last</th>\n",
       "      <th>congressman</th>\n",
       "      <th>affiliation</th>\n",
       "    </tr>\n",
       "  </thead>\n",
       "  <tbody>\n",
       "    <tr>\n",
       "      <th>0</th>\n",
       "      <td>Gregorio</td>\n",
       "      <td>Sablan</td>\n",
       "      <td>Gregorio Sablan (Representative from NA)</td>\n",
       "      <td>d</td>\n",
       "    </tr>\n",
       "    <tr>\n",
       "      <th>1</th>\n",
       "      <td>Robert</td>\n",
       "      <td>Aderholt</td>\n",
       "      <td>Robert Aderholt (Representative from Alabama)</td>\n",
       "      <td>r</td>\n",
       "    </tr>\n",
       "    <tr>\n",
       "      <th>2</th>\n",
       "      <td>Lamar</td>\n",
       "      <td>Alexander</td>\n",
       "      <td>Lamar Alexander (Senator from Tennessee)</td>\n",
       "      <td>r</td>\n",
       "    </tr>\n",
       "    <tr>\n",
       "      <th>3</th>\n",
       "      <td>Justin</td>\n",
       "      <td>Amash</td>\n",
       "      <td>Justin Amash (Representative from Michigan)</td>\n",
       "      <td>r</td>\n",
       "    </tr>\n",
       "    <tr>\n",
       "      <th>4</th>\n",
       "      <td>Mark</td>\n",
       "      <td>Amodei</td>\n",
       "      <td>Mark Amodei (Representative from Nevada)</td>\n",
       "      <td>r</td>\n",
       "    </tr>\n",
       "  </tbody>\n",
       "</table>\n",
       "</div>"
      ],
      "text/plain": [
       "      First       Last                                    congressman  \\\n",
       "0  Gregorio     Sablan       Gregorio Sablan (Representative from NA)   \n",
       "1    Robert   Aderholt  Robert Aderholt (Representative from Alabama)   \n",
       "2     Lamar  Alexander       Lamar Alexander (Senator from Tennessee)   \n",
       "3    Justin      Amash    Justin Amash (Representative from Michigan)   \n",
       "4      Mark     Amodei       Mark Amodei (Representative from Nevada)   \n",
       "\n",
       "  affiliation  \n",
       "0           d  \n",
       "1           r  \n",
       "2           r  \n",
       "3           r  \n",
       "4           r  "
      ]
     },
     "execution_count": 14,
     "metadata": {},
     "output_type": "execute_result"
    }
   ],
   "source": [
    "congressmen_df = pd.read_csv('congressmen_2015.csv')\n",
    "congressmen_df.head()"
   ]
  },
  {
   "cell_type": "code",
   "execution_count": 18,
   "metadata": {},
   "outputs": [],
   "source": [
    "df = df.merge(congressmen_df, how='left',left_on='label',right_on='congressman')"
   ]
  },
  {
   "cell_type": "code",
   "execution_count": 22,
   "metadata": {},
   "outputs": [],
   "source": [
    "df.loc[df.bias == 'partisan', 'target'] = df['affiliation']\n",
    "df.loc[df.bias == 'neutral', 'target'] = df['bias']"
   ]
  },
  {
   "cell_type": "code",
   "execution_count": 23,
   "metadata": {},
   "outputs": [
    {
     "data": {
      "text/html": [
       "<div>\n",
       "<style scoped>\n",
       "    .dataframe tbody tr th:only-of-type {\n",
       "        vertical-align: middle;\n",
       "    }\n",
       "\n",
       "    .dataframe tbody tr th {\n",
       "        vertical-align: top;\n",
       "    }\n",
       "\n",
       "    .dataframe thead th {\n",
       "        text-align: right;\n",
       "    }\n",
       "</style>\n",
       "<table border=\"1\" class=\"dataframe\">\n",
       "  <thead>\n",
       "    <tr style=\"text-align: right;\">\n",
       "      <th></th>\n",
       "      <th>bias</th>\n",
       "      <th>message</th>\n",
       "      <th>embed</th>\n",
       "      <th>label</th>\n",
       "      <th>source</th>\n",
       "      <th>text</th>\n",
       "      <th>purpose_and_bias</th>\n",
       "      <th>First</th>\n",
       "      <th>Last</th>\n",
       "      <th>congressman</th>\n",
       "      <th>affiliation</th>\n",
       "      <th>target</th>\n",
       "    </tr>\n",
       "  </thead>\n",
       "  <tbody>\n",
       "    <tr>\n",
       "      <th>0</th>\n",
       "      <td>partisan</td>\n",
       "      <td>policy</td>\n",
       "      <td>&lt;blockquote class=\"twitter-tweet\" width=\"450\"&gt;...</td>\n",
       "      <td>Trey Radel (Representative from Florida)</td>\n",
       "      <td>twitter</td>\n",
       "      <td>rt nowthisnews rep trey radel r fl slams obama...</td>\n",
       "      <td>policy_partisan</td>\n",
       "      <td>Trey</td>\n",
       "      <td>Radel</td>\n",
       "      <td>Trey Radel (Representative from Florida)</td>\n",
       "      <td>r</td>\n",
       "      <td>r</td>\n",
       "    </tr>\n",
       "    <tr>\n",
       "      <th>1</th>\n",
       "      <td>partisan</td>\n",
       "      <td>attack</td>\n",
       "      <td>&lt;blockquote class=\"twitter-tweet\" width=\"450\"&gt;...</td>\n",
       "      <td>Mitch McConnell (Senator from Kentucky)</td>\n",
       "      <td>twitter</td>\n",
       "      <td>video  obamacare  full of higher costs and bro...</td>\n",
       "      <td>attack_partisan</td>\n",
       "      <td>Mitch</td>\n",
       "      <td>McConnell</td>\n",
       "      <td>Mitch McConnell (Senator from Kentucky)</td>\n",
       "      <td>r</td>\n",
       "      <td>r</td>\n",
       "    </tr>\n",
       "    <tr>\n",
       "      <th>2</th>\n",
       "      <td>neutral</td>\n",
       "      <td>support</td>\n",
       "      <td>&lt;blockquote class=\"twitter-tweet\" width=\"450\"&gt;...</td>\n",
       "      <td>Kurt Schrader (Representative from Oregon)</td>\n",
       "      <td>twitter</td>\n",
       "      <td>please join me today in remembering our fallen...</td>\n",
       "      <td>support_neutral</td>\n",
       "      <td>Kurt</td>\n",
       "      <td>Schrader</td>\n",
       "      <td>Kurt Schrader (Representative from Oregon)</td>\n",
       "      <td>d</td>\n",
       "      <td>neutral</td>\n",
       "    </tr>\n",
       "    <tr>\n",
       "      <th>3</th>\n",
       "      <td>neutral</td>\n",
       "      <td>policy</td>\n",
       "      <td>&lt;blockquote class=\"twitter-tweet\" width=\"450\"&gt;...</td>\n",
       "      <td>Michael Crapo (Senator from Idaho)</td>\n",
       "      <td>twitter</td>\n",
       "      <td>rt senatorleahy 1st step toward senate debate ...</td>\n",
       "      <td>policy_neutral</td>\n",
       "      <td>Michael</td>\n",
       "      <td>Crapo</td>\n",
       "      <td>Michael Crapo (Senator from Idaho)</td>\n",
       "      <td>r</td>\n",
       "      <td>neutral</td>\n",
       "    </tr>\n",
       "    <tr>\n",
       "      <th>4</th>\n",
       "      <td>partisan</td>\n",
       "      <td>policy</td>\n",
       "      <td>&lt;blockquote class=\"twitter-tweet\" width=\"450\"&gt;...</td>\n",
       "      <td>Mark Udall (Senator from Colorado)</td>\n",
       "      <td>twitter</td>\n",
       "      <td>amazon delivery drones show need to update law...</td>\n",
       "      <td>policy_partisan</td>\n",
       "      <td>Mark</td>\n",
       "      <td>Udall</td>\n",
       "      <td>Mark Udall (Senator from Colorado)</td>\n",
       "      <td>d</td>\n",
       "      <td>d</td>\n",
       "    </tr>\n",
       "  </tbody>\n",
       "</table>\n",
       "</div>"
      ],
      "text/plain": [
       "       bias  message                                              embed  \\\n",
       "0  partisan   policy  <blockquote class=\"twitter-tweet\" width=\"450\">...   \n",
       "1  partisan   attack  <blockquote class=\"twitter-tweet\" width=\"450\">...   \n",
       "2   neutral  support  <blockquote class=\"twitter-tweet\" width=\"450\">...   \n",
       "3   neutral   policy  <blockquote class=\"twitter-tweet\" width=\"450\">...   \n",
       "4  partisan   policy  <blockquote class=\"twitter-tweet\" width=\"450\">...   \n",
       "\n",
       "                                        label   source  \\\n",
       "0    Trey Radel (Representative from Florida)  twitter   \n",
       "1     Mitch McConnell (Senator from Kentucky)  twitter   \n",
       "2  Kurt Schrader (Representative from Oregon)  twitter   \n",
       "3          Michael Crapo (Senator from Idaho)  twitter   \n",
       "4          Mark Udall (Senator from Colorado)  twitter   \n",
       "\n",
       "                                                text purpose_and_bias  \\\n",
       "0  rt nowthisnews rep trey radel r fl slams obama...  policy_partisan   \n",
       "1  video  obamacare  full of higher costs and bro...  attack_partisan   \n",
       "2  please join me today in remembering our fallen...  support_neutral   \n",
       "3  rt senatorleahy 1st step toward senate debate ...   policy_neutral   \n",
       "4  amazon delivery drones show need to update law...  policy_partisan   \n",
       "\n",
       "     First       Last                                 congressman affiliation  \\\n",
       "0     Trey      Radel    Trey Radel (Representative from Florida)           r   \n",
       "1    Mitch  McConnell     Mitch McConnell (Senator from Kentucky)           r   \n",
       "2     Kurt   Schrader  Kurt Schrader (Representative from Oregon)           d   \n",
       "3  Michael      Crapo          Michael Crapo (Senator from Idaho)           r   \n",
       "4     Mark      Udall          Mark Udall (Senator from Colorado)           d   \n",
       "\n",
       "    target  \n",
       "0        r  \n",
       "1        r  \n",
       "2  neutral  \n",
       "3  neutral  \n",
       "4        d  "
      ]
     },
     "execution_count": 23,
     "metadata": {},
     "output_type": "execute_result"
    }
   ],
   "source": [
    "df.head()"
   ]
  },
  {
   "cell_type": "code",
   "execution_count": 39,
   "metadata": {},
   "outputs": [
    {
     "data": {
      "text/plain": [
       "neutral    3689\n",
       "r           791\n",
       "d           490\n",
       "i            17\n",
       "Name: target, dtype: int64"
      ]
     },
     "execution_count": 39,
     "metadata": {},
     "output_type": "execute_result"
    }
   ],
   "source": [
    "df['target'].value_counts()"
   ]
  },
  {
   "cell_type": "code",
   "execution_count": 44,
   "metadata": {
    "scrolled": true
   },
   "outputs": [
    {
     "data": {
      "text/plain": [
       "13"
      ]
     },
     "execution_count": 44,
     "metadata": {},
     "output_type": "execute_result"
    }
   ],
   "source": [
    "len(df[df['target'].isnull()])"
   ]
  },
  {
   "cell_type": "code",
   "execution_count": 45,
   "metadata": {},
   "outputs": [],
   "source": [
    "df.dropna(axis=0,inplace=True)"
   ]
  },
  {
   "cell_type": "code",
   "execution_count": 46,
   "metadata": {},
   "outputs": [
    {
     "name": "stdout",
     "output_type": "stream",
     "text": [
      "<class 'pandas.core.frame.DataFrame'>\n",
      "Int64Index: 4929 entries, 0 to 4999\n",
      "Data columns (total 12 columns):\n",
      "bias                4929 non-null object\n",
      "message             4929 non-null object\n",
      "embed               4929 non-null object\n",
      "label               4929 non-null object\n",
      "source              4929 non-null object\n",
      "text                4929 non-null object\n",
      "purpose_and_bias    4929 non-null object\n",
      "First               4929 non-null object\n",
      "Last                4929 non-null object\n",
      "congressman         4929 non-null object\n",
      "affiliation         4929 non-null object\n",
      "target              4929 non-null object\n",
      "dtypes: object(12)\n",
      "memory usage: 500.6+ KB\n"
     ]
    }
   ],
   "source": [
    "df.info()"
   ]
  },
  {
   "cell_type": "markdown",
   "metadata": {},
   "source": [
    "## Inputs (X): Tweets\n",
    "## Target (Y): Bias"
   ]
  },
  {
   "cell_type": "code",
   "execution_count": 60,
   "metadata": {},
   "outputs": [],
   "source": [
    "X = np.array(df['text'])\n",
    "y = np.array(df['target'])"
   ]
  },
  {
   "cell_type": "markdown",
   "metadata": {},
   "source": [
    "# TRANSFER LEARNING"
   ]
  },
  {
   "cell_type": "code",
   "execution_count": 48,
   "metadata": {},
   "outputs": [],
   "source": [
    "#download the model to local so it can be used again and again\n",
    "#!mkdir module\n",
    "#!mkdir module/module_elmo2"
   ]
  },
  {
   "cell_type": "code",
   "execution_count": 49,
   "metadata": {},
   "outputs": [],
   "source": [
    "# Download the module, and uncompress it to the destination folder. \n",
    "#!curl -L \"https://tfhub.dev/google/elmo/2?tf-hub-format=compressed\" | tar -zxvC module/module_elmo2"
   ]
  },
  {
   "cell_type": "markdown",
   "metadata": {},
   "source": [
    "This module exposes 4 trainable scalar weights for layer aggregation. The output dictionary contains :\n",
    "\n",
    "- word_emb: the character-based word representations with shape [batch_size, max_length, 512].\n",
    "- lstm_outputs1: the first LSTM hidden state with shape [batch_size, max_length, 1024].\n",
    "- lstm_outputs2: the second LSTM hidden state with shape [batch_size, max_length, 1024].\n",
    "- elmo: the weighted sum of the 3 layers, where the weights are trainable. This tensor has shape [batch_size, max_length, 1024]\n",
    "- default: a fixed mean-pooling of all contextualized word representations with shape [batch_size, 1024]."
   ]
  },
  {
   "cell_type": "markdown",
   "metadata": {},
   "source": [
    "# Passing Sentence Strings"
   ]
  },
  {
   "cell_type": "code",
   "execution_count": 50,
   "metadata": {},
   "outputs": [
    {
     "name": "stdout",
     "output_type": "stream",
     "text": [
      "INFO:tensorflow:Saver not created because there are no variables in the graph to restore\n"
     ]
    },
    {
     "name": "stderr",
     "output_type": "stream",
     "text": [
      "I0618 14:55:17.786747 4661700032 saver.py:1483] Saver not created because there are no variables in the graph to restore\n"
     ]
    }
   ],
   "source": [
    "elmo = hub.Module(\"module/module_elmo2/\", trainable=False)\n",
    "embeddings = elmo(\n",
    "    [\"the cat is on the mat\", \"what are you doing in evening\"],\n",
    "    signature=\"default\",\n",
    "    as_dict=True)[\"elmo\"]\n",
    "with tf.Session() as session:\n",
    "    session.run([tf.global_variables_initializer(), tf.tables_initializer()])\n",
    "    message_embeddings = session.run(embeddings)"
   ]
  },
  {
   "cell_type": "code",
   "execution_count": 51,
   "metadata": {},
   "outputs": [
    {
     "name": "stdout",
     "output_type": "stream",
     "text": [
      "2\n",
      "6\n",
      "1024\n"
     ]
    }
   ],
   "source": [
    "print(len(message_embeddings))\n",
    "print(len(message_embeddings[0]))\n",
    "print(len(message_embeddings[0][0]))"
   ]
  },
  {
   "cell_type": "markdown",
   "metadata": {},
   "source": [
    "# Passing Word Strings (as Tokenized Sentences)"
   ]
  },
  {
   "cell_type": "code",
   "execution_count": 52,
   "metadata": {},
   "outputs": [
    {
     "name": "stdout",
     "output_type": "stream",
     "text": [
      "INFO:tensorflow:Saver not created because there are no variables in the graph to restore\n"
     ]
    },
    {
     "name": "stderr",
     "output_type": "stream",
     "text": [
      "I0618 14:55:24.549960 4661700032 saver.py:1483] Saver not created because there are no variables in the graph to restore\n"
     ]
    }
   ],
   "source": [
    "elmo = hub.Module(\"module/module_elmo2/\", trainable=False)\n",
    "\n",
    "tokens_input = [[\"the\", \"cat\", \"is\", \"on\", \"the\", \"mat\"],\n",
    "[\"what\", \"are\", \"you\", \"doing\", \"in\", \"evening\"]]\n",
    "\n",
    "tokens_length = [6, 5]\n",
    "\n",
    "embeddings = elmo(inputs={\n",
    "    \"tokens\": tokens_input,\n",
    "    \"sequence_len\": tokens_length\n",
    "    },\n",
    "    signature=\"tokens\",\n",
    "    as_dict=True)[\"elmo\"]\n",
    "\n",
    "with tf.Session() as session:\n",
    "    session.run([tf.global_variables_initializer(), tf.tables_initializer()])\n",
    "    message_embeddings = session.run(embeddings)"
   ]
  },
  {
   "cell_type": "code",
   "execution_count": 53,
   "metadata": {},
   "outputs": [
    {
     "name": "stdout",
     "output_type": "stream",
     "text": [
      "2\n",
      "6\n",
      "1024\n"
     ]
    }
   ],
   "source": [
    "print(len(message_embeddings))\n",
    "print(len(message_embeddings[0]))\n",
    "print(len(message_embeddings[0][0]))"
   ]
  },
  {
   "cell_type": "markdown",
   "metadata": {},
   "source": [
    "# If we want to use for multiple inputs"
   ]
  },
  {
   "cell_type": "code",
   "execution_count": 54,
   "metadata": {},
   "outputs": [
    {
     "name": "stdout",
     "output_type": "stream",
     "text": [
      "INFO:tensorflow:Saver not created because there are no variables in the graph to restore\n"
     ]
    },
    {
     "name": "stderr",
     "output_type": "stream",
     "text": [
      "I0618 14:55:30.521576 4661700032 saver.py:1483] Saver not created because there are no variables in the graph to restore\n"
     ]
    },
    {
     "name": "stdout",
     "output_type": "stream",
     "text": [
      "INFO:tensorflow:Graph was finalized.\n"
     ]
    },
    {
     "name": "stderr",
     "output_type": "stream",
     "text": [
      "I0618 14:55:30.798700 4661700032 monitored_session.py:222] Graph was finalized.\n"
     ]
    },
    {
     "name": "stdout",
     "output_type": "stream",
     "text": [
      "INFO:tensorflow:Running local_init_op.\n"
     ]
    },
    {
     "name": "stderr",
     "output_type": "stream",
     "text": [
      "I0618 14:55:31.378988 4661700032 session_manager.py:491] Running local_init_op.\n"
     ]
    },
    {
     "name": "stdout",
     "output_type": "stream",
     "text": [
      "INFO:tensorflow:Done running local_init_op.\n"
     ]
    },
    {
     "name": "stderr",
     "output_type": "stream",
     "text": [
      "I0618 14:55:31.459480 4661700032 session_manager.py:493] Done running local_init_op.\n"
     ]
    }
   ],
   "source": [
    "def embed_elmo2(module):\n",
    "    with tf.Graph().as_default():\n",
    "        sentences = tf.placeholder(tf.string)\n",
    "        embed = hub.Module(module)\n",
    "        embeddings = embed(sentences)\n",
    "        session = tf.train.MonitoredSession()\n",
    "    return lambda x: session.run(embeddings, {sentences: x})\n",
    "\n",
    "embed_fn = embed_elmo2('module/module_elmo2')"
   ]
  },
  {
   "cell_type": "code",
   "execution_count": 55,
   "metadata": {},
   "outputs": [
    {
     "data": {
      "text/plain": [
       "(2, 1024)"
      ]
     },
     "execution_count": 55,
     "metadata": {},
     "output_type": "execute_result"
    }
   ],
   "source": [
    "embed_fn([\"i am sambit\",\"i am alex\"]).shape"
   ]
  },
  {
   "cell_type": "markdown",
   "metadata": {},
   "source": [
    "# ELMO Embedding in a Simple Neural Network Classifier"
   ]
  },
  {
   "cell_type": "code",
   "execution_count": 56,
   "metadata": {},
   "outputs": [],
   "source": [
    "import re\n",
    "def cleanText(text):\n",
    "    text = text.strip().replace(\"\\n\", \" \").replace(\"\\r\", \" \")\n",
    "    text = replace_contraction(text)\n",
    "    text = replace_links(text, \"link\")\n",
    "    text = remove_numbers(text)\n",
    "    text = re.sub(r'[,!@#$%^&*)(|/><\";:.?\\'\\\\}{]',\"\",text)\n",
    "    text = text.lower()\n",
    "    return text"
   ]
  },
  {
   "cell_type": "code",
   "execution_count": 61,
   "metadata": {},
   "outputs": [],
   "source": [
    "embed = hub.Module(\"module/module_elmo2\")\n",
    "def ELMoEmbedding(x):\n",
    "    return embed(tf.squeeze(tf.cast(x, tf.string)), signature=\"default\", as_dict=True)[\"default\"]"
   ]
  },
  {
   "cell_type": "code",
   "execution_count": 63,
   "metadata": {},
   "outputs": [],
   "source": [
    "def build_model(): \n",
    "    input_text = Input(shape=(1,), dtype=\"string\")\n",
    "    embedding = Lambda(ELMoEmbedding, output_shape=(1024, ))(input_text)\n",
    "    dense = Dense(256, activation='relu', kernel_regularizer=keras.regularizers.l2(0.001))(embedding)\n",
    "    pred = Dense(1, activation='sigmoid')(dense)\n",
    "    model = Model(inputs=[input_text], outputs=pred)\n",
    "    model.compile(loss='binary_crossentropy', optimizer='rmsprop', metrics=['accuracy'])\n",
    "    return model"
   ]
  },
  {
   "cell_type": "code",
   "execution_count": 64,
   "metadata": {},
   "outputs": [
    {
     "name": "stdout",
     "output_type": "stream",
     "text": [
      "INFO:tensorflow:Saver not created because there are no variables in the graph to restore\n"
     ]
    },
    {
     "name": "stderr",
     "output_type": "stream",
     "text": [
      "I0618 15:05:18.231956 4661700032 saver.py:1483] Saver not created because there are no variables in the graph to restore\n"
     ]
    },
    {
     "name": "stdout",
     "output_type": "stream",
     "text": [
      "_________________________________________________________________\n",
      "Layer (type)                 Output Shape              Param #   \n",
      "=================================================================\n",
      "input_1 (InputLayer)         (None, 1)                 0         \n",
      "_________________________________________________________________\n",
      "lambda_1 (Lambda)            (None, 1024)              0         \n",
      "_________________________________________________________________\n",
      "dense_1 (Dense)              (None, 256)               262400    \n",
      "_________________________________________________________________\n",
      "dense_2 (Dense)              (None, 1)                 257       \n",
      "=================================================================\n",
      "Total params: 262,657\n",
      "Trainable params: 262,657\n",
      "Non-trainable params: 0\n",
      "_________________________________________________________________\n"
     ]
    }
   ],
   "source": [
    "model_elmo = build_model()\n",
    "model_elmo.summary()"
   ]
  },
  {
   "cell_type": "code",
   "execution_count": 65,
   "metadata": {},
   "outputs": [
    {
     "name": "stdout",
     "output_type": "stream",
     "text": [
      "WARNING:tensorflow:From /anaconda3/envs/learn-env/lib/python3.6/site-packages/tensorflow/python/ops/math_ops.py:3066: to_int32 (from tensorflow.python.ops.math_ops) is deprecated and will be removed in a future version.\n",
      "Instructions for updating:\n",
      "Use tf.cast instead.\n"
     ]
    },
    {
     "name": "stderr",
     "output_type": "stream",
     "text": [
      "W0618 20:05:12.964569 4661700032 deprecation.py:323] From /anaconda3/envs/learn-env/lib/python3.6/site-packages/tensorflow/python/ops/math_ops.py:3066: to_int32 (from tensorflow.python.ops.math_ops) is deprecated and will be removed in a future version.\n",
      "Instructions for updating:\n",
      "Use tf.cast instead.\n"
     ]
    },
    {
     "name": "stdout",
     "output_type": "stream",
     "text": [
      "Train on 3943 samples, validate on 986 samples\n",
      "Epoch 1/5\n"
     ]
    },
    {
     "ename": "ValueError",
     "evalue": "could not convert string to float: 'neutral'",
     "output_type": "error",
     "traceback": [
      "\u001b[0;31m---------------------------------------------------------------------------\u001b[0m",
      "\u001b[0;31mValueError\u001b[0m                                Traceback (most recent call last)",
      "\u001b[0;32m<ipython-input-65-cf57cb8c4ebd>\u001b[0m in \u001b[0;36m<module>\u001b[0;34m()\u001b[0m\n\u001b[1;32m      3\u001b[0m     \u001b[0msession\u001b[0m\u001b[0;34m.\u001b[0m\u001b[0mrun\u001b[0m\u001b[0;34m(\u001b[0m\u001b[0mtf\u001b[0m\u001b[0;34m.\u001b[0m\u001b[0mglobal_variables_initializer\u001b[0m\u001b[0;34m(\u001b[0m\u001b[0;34m)\u001b[0m\u001b[0;34m)\u001b[0m\u001b[0;34m\u001b[0m\u001b[0m\n\u001b[1;32m      4\u001b[0m     \u001b[0msession\u001b[0m\u001b[0;34m.\u001b[0m\u001b[0mrun\u001b[0m\u001b[0;34m(\u001b[0m\u001b[0mtf\u001b[0m\u001b[0;34m.\u001b[0m\u001b[0mtables_initializer\u001b[0m\u001b[0;34m(\u001b[0m\u001b[0;34m)\u001b[0m\u001b[0;34m)\u001b[0m\u001b[0;34m\u001b[0m\u001b[0m\n\u001b[0;32m----> 5\u001b[0;31m     \u001b[0mhistory\u001b[0m \u001b[0;34m=\u001b[0m \u001b[0mmodel_elmo\u001b[0m\u001b[0;34m.\u001b[0m\u001b[0mfit\u001b[0m\u001b[0;34m(\u001b[0m\u001b[0mX\u001b[0m\u001b[0;34m,\u001b[0m \u001b[0my\u001b[0m\u001b[0;34m,\u001b[0m \u001b[0mepochs\u001b[0m\u001b[0;34m=\u001b[0m\u001b[0;36m5\u001b[0m\u001b[0;34m,\u001b[0m \u001b[0mbatch_size\u001b[0m\u001b[0;34m=\u001b[0m\u001b[0;36m256\u001b[0m\u001b[0;34m,\u001b[0m \u001b[0mvalidation_split\u001b[0m \u001b[0;34m=\u001b[0m \u001b[0;36m0.2\u001b[0m\u001b[0;34m)\u001b[0m\u001b[0;34m\u001b[0m\u001b[0m\n\u001b[0m\u001b[1;32m      6\u001b[0m     \u001b[0mmodel_elmo\u001b[0m\u001b[0;34m.\u001b[0m\u001b[0msave_weights\u001b[0m\u001b[0;34m(\u001b[0m\u001b[0;34m'./model_elmo_weights.h5'\u001b[0m\u001b[0;34m)\u001b[0m\u001b[0;34m\u001b[0m\u001b[0m\n",
      "\u001b[0;32m/anaconda3/envs/learn-env/lib/python3.6/site-packages/keras/engine/training.py\u001b[0m in \u001b[0;36mfit\u001b[0;34m(self, x, y, batch_size, epochs, verbose, callbacks, validation_split, validation_data, shuffle, class_weight, sample_weight, initial_epoch, steps_per_epoch, validation_steps, **kwargs)\u001b[0m\n\u001b[1;32m   1037\u001b[0m                                         \u001b[0minitial_epoch\u001b[0m\u001b[0;34m=\u001b[0m\u001b[0minitial_epoch\u001b[0m\u001b[0;34m,\u001b[0m\u001b[0;34m\u001b[0m\u001b[0m\n\u001b[1;32m   1038\u001b[0m                                         \u001b[0msteps_per_epoch\u001b[0m\u001b[0;34m=\u001b[0m\u001b[0msteps_per_epoch\u001b[0m\u001b[0;34m,\u001b[0m\u001b[0;34m\u001b[0m\u001b[0m\n\u001b[0;32m-> 1039\u001b[0;31m                                         validation_steps=validation_steps)\n\u001b[0m\u001b[1;32m   1040\u001b[0m \u001b[0;34m\u001b[0m\u001b[0m\n\u001b[1;32m   1041\u001b[0m     def evaluate(self, x=None, y=None,\n",
      "\u001b[0;32m/anaconda3/envs/learn-env/lib/python3.6/site-packages/keras/engine/training_arrays.py\u001b[0m in \u001b[0;36mfit_loop\u001b[0;34m(model, f, ins, out_labels, batch_size, epochs, verbose, callbacks, val_f, val_ins, shuffle, callback_metrics, initial_epoch, steps_per_epoch, validation_steps)\u001b[0m\n\u001b[1;32m    197\u001b[0m                     \u001b[0mins_batch\u001b[0m\u001b[0;34m[\u001b[0m\u001b[0mi\u001b[0m\u001b[0;34m]\u001b[0m \u001b[0;34m=\u001b[0m \u001b[0mins_batch\u001b[0m\u001b[0;34m[\u001b[0m\u001b[0mi\u001b[0m\u001b[0;34m]\u001b[0m\u001b[0;34m.\u001b[0m\u001b[0mtoarray\u001b[0m\u001b[0;34m(\u001b[0m\u001b[0;34m)\u001b[0m\u001b[0;34m\u001b[0m\u001b[0m\n\u001b[1;32m    198\u001b[0m \u001b[0;34m\u001b[0m\u001b[0m\n\u001b[0;32m--> 199\u001b[0;31m                 \u001b[0mouts\u001b[0m \u001b[0;34m=\u001b[0m \u001b[0mf\u001b[0m\u001b[0;34m(\u001b[0m\u001b[0mins_batch\u001b[0m\u001b[0;34m)\u001b[0m\u001b[0;34m\u001b[0m\u001b[0m\n\u001b[0m\u001b[1;32m    200\u001b[0m                 \u001b[0mouts\u001b[0m \u001b[0;34m=\u001b[0m \u001b[0mto_list\u001b[0m\u001b[0;34m(\u001b[0m\u001b[0mouts\u001b[0m\u001b[0;34m)\u001b[0m\u001b[0;34m\u001b[0m\u001b[0m\n\u001b[1;32m    201\u001b[0m                 \u001b[0;32mfor\u001b[0m \u001b[0ml\u001b[0m\u001b[0;34m,\u001b[0m \u001b[0mo\u001b[0m \u001b[0;32min\u001b[0m \u001b[0mzip\u001b[0m\u001b[0;34m(\u001b[0m\u001b[0mout_labels\u001b[0m\u001b[0;34m,\u001b[0m \u001b[0mouts\u001b[0m\u001b[0;34m)\u001b[0m\u001b[0;34m:\u001b[0m\u001b[0;34m\u001b[0m\u001b[0m\n",
      "\u001b[0;32m/anaconda3/envs/learn-env/lib/python3.6/site-packages/keras/backend/tensorflow_backend.py\u001b[0m in \u001b[0;36m__call__\u001b[0;34m(self, inputs)\u001b[0m\n\u001b[1;32m   2713\u001b[0m                 \u001b[0;32mreturn\u001b[0m \u001b[0mself\u001b[0m\u001b[0;34m.\u001b[0m\u001b[0m_legacy_call\u001b[0m\u001b[0;34m(\u001b[0m\u001b[0minputs\u001b[0m\u001b[0;34m)\u001b[0m\u001b[0;34m\u001b[0m\u001b[0m\n\u001b[1;32m   2714\u001b[0m \u001b[0;34m\u001b[0m\u001b[0m\n\u001b[0;32m-> 2715\u001b[0;31m             \u001b[0;32mreturn\u001b[0m \u001b[0mself\u001b[0m\u001b[0;34m.\u001b[0m\u001b[0m_call\u001b[0m\u001b[0;34m(\u001b[0m\u001b[0minputs\u001b[0m\u001b[0;34m)\u001b[0m\u001b[0;34m\u001b[0m\u001b[0m\n\u001b[0m\u001b[1;32m   2716\u001b[0m         \u001b[0;32melse\u001b[0m\u001b[0;34m:\u001b[0m\u001b[0;34m\u001b[0m\u001b[0m\n\u001b[1;32m   2717\u001b[0m             \u001b[0;32mif\u001b[0m \u001b[0mpy_any\u001b[0m\u001b[0;34m(\u001b[0m\u001b[0mis_tensor\u001b[0m\u001b[0;34m(\u001b[0m\u001b[0mx\u001b[0m\u001b[0;34m)\u001b[0m \u001b[0;32mfor\u001b[0m \u001b[0mx\u001b[0m \u001b[0;32min\u001b[0m \u001b[0minputs\u001b[0m\u001b[0;34m)\u001b[0m\u001b[0;34m:\u001b[0m\u001b[0;34m\u001b[0m\u001b[0m\n",
      "\u001b[0;32m/anaconda3/envs/learn-env/lib/python3.6/site-packages/keras/backend/tensorflow_backend.py\u001b[0m in \u001b[0;36m_call\u001b[0;34m(self, inputs)\u001b[0m\n\u001b[1;32m   2653\u001b[0m                 array_vals.append(\n\u001b[1;32m   2654\u001b[0m                     np.asarray(value,\n\u001b[0;32m-> 2655\u001b[0;31m                                dtype=tf.as_dtype(tensor.dtype).as_numpy_dtype))\n\u001b[0m\u001b[1;32m   2656\u001b[0m         \u001b[0;32mif\u001b[0m \u001b[0mself\u001b[0m\u001b[0;34m.\u001b[0m\u001b[0mfeed_dict\u001b[0m\u001b[0;34m:\u001b[0m\u001b[0;34m\u001b[0m\u001b[0m\n\u001b[1;32m   2657\u001b[0m             \u001b[0;32mfor\u001b[0m \u001b[0mkey\u001b[0m \u001b[0;32min\u001b[0m \u001b[0msorted\u001b[0m\u001b[0;34m(\u001b[0m\u001b[0mself\u001b[0m\u001b[0;34m.\u001b[0m\u001b[0mfeed_dict\u001b[0m\u001b[0;34m.\u001b[0m\u001b[0mkeys\u001b[0m\u001b[0;34m(\u001b[0m\u001b[0;34m)\u001b[0m\u001b[0;34m)\u001b[0m\u001b[0;34m:\u001b[0m\u001b[0;34m\u001b[0m\u001b[0m\n",
      "\u001b[0;32m/anaconda3/envs/learn-env/lib/python3.6/site-packages/numpy/core/numeric.py\u001b[0m in \u001b[0;36masarray\u001b[0;34m(a, dtype, order)\u001b[0m\n\u001b[1;32m    536\u001b[0m \u001b[0;34m\u001b[0m\u001b[0m\n\u001b[1;32m    537\u001b[0m     \"\"\"\n\u001b[0;32m--> 538\u001b[0;31m     \u001b[0;32mreturn\u001b[0m \u001b[0marray\u001b[0m\u001b[0;34m(\u001b[0m\u001b[0ma\u001b[0m\u001b[0;34m,\u001b[0m \u001b[0mdtype\u001b[0m\u001b[0;34m,\u001b[0m \u001b[0mcopy\u001b[0m\u001b[0;34m=\u001b[0m\u001b[0;32mFalse\u001b[0m\u001b[0;34m,\u001b[0m \u001b[0morder\u001b[0m\u001b[0;34m=\u001b[0m\u001b[0morder\u001b[0m\u001b[0;34m)\u001b[0m\u001b[0;34m\u001b[0m\u001b[0m\n\u001b[0m\u001b[1;32m    539\u001b[0m \u001b[0;34m\u001b[0m\u001b[0m\n\u001b[1;32m    540\u001b[0m \u001b[0;34m\u001b[0m\u001b[0m\n",
      "\u001b[0;31mValueError\u001b[0m: could not convert string to float: 'neutral'"
     ]
    }
   ],
   "source": [
    "with tf.Session() as session:\n",
    "    K.set_session(session)\n",
    "    session.run(tf.global_variables_initializer())  \n",
    "    session.run(tf.tables_initializer())\n",
    "    history = model_elmo.fit(X, y, epochs=5, batch_size=256, validation_split = 0.2)\n",
    "    model_elmo.save_weights('./model_elmo_weights.h5')"
   ]
  },
  {
   "cell_type": "code",
   "execution_count": null,
   "metadata": {},
   "outputs": [],
   "source": []
  }
 ],
 "metadata": {
  "kernelspec": {
   "display_name": "learn-env",
   "language": "python",
   "name": "learn-env"
  },
  "language_info": {
   "codemirror_mode": {
    "name": "ipython",
    "version": 3
   },
   "file_extension": ".py",
   "mimetype": "text/x-python",
   "name": "python",
   "nbconvert_exporter": "python",
   "pygments_lexer": "ipython3",
   "version": "3.6.6"
  }
 },
 "nbformat": 4,
 "nbformat_minor": 2
}
